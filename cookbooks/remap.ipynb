{
 "cells": [
  {
   "cell_type": "code",
   "execution_count": null,
   "metadata": {},
   "outputs": [],
   "source": [
    "%load_ext autoreload\n",
    "%autoreload 2"
   ]
  },
  {
   "cell_type": "code",
   "execution_count": null,
   "metadata": {},
   "outputs": [],
   "source": [
    "import sys\n",
    "if '..' not in sys.path:\n",
    "    sys.path.append('..')"
   ]
  },
  {
   "cell_type": "code",
   "execution_count": null,
   "metadata": {},
   "outputs": [],
   "source": [
    "import random\n",
    "\n",
    "n = 4\n",
    "\n",
    "source = [i for i in range(n)]\n",
    "# target = sorted(source, key=lambda _: random.random())\n",
    "target = source\n",
    "mapping = {k: v for k, v in zip(source, target)}\n",
    "\n",
    "mapping[n] = n      # BOS\n",
    "mapping[n+1] = n+1  # EOS"
   ]
  },
  {
   "cell_type": "code",
   "execution_count": null,
   "metadata": {},
   "outputs": [],
   "source": [
    "def genseq(N):\n",
    "    a = [n]\n",
    "    for _ in range(N-2):\n",
    "        a.append(random.randint(0, n-1))\n",
    "    a.append(n+1)\n",
    "    return a, [mapping[i] for i in a]\n",
    "\n",
    "genseq(5)"
   ]
  },
  {
   "cell_type": "code",
   "execution_count": null,
   "metadata": {},
   "outputs": [],
   "source": [
    "import torch\n",
    "import torch.nn.functional as F\n",
    "\n",
    "source_corpus = []\n",
    "target_corpus = []\n",
    "\n",
    "for _ in range(1):\n",
    "    a, b = genseq(20)\n",
    "    source_corpus.append(a)\n",
    "    target_corpus.append(b)\n",
    "    \n",
    "source_corpus = torch.LongTensor(source_corpus)\n",
    "target_corpus = torch.LongTensor(target_corpus)"
   ]
  },
  {
   "cell_type": "code",
   "execution_count": null,
   "metadata": {},
   "outputs": [],
   "source": [
    "from model import Transformer\n",
    "from torch.optim import AdamW\n",
    "\n",
    "n = 4\n",
    "\n",
    "model = Transformer(d_model=10, nhead=2, max_len=20, vocab_size=n+2,\n",
    "                    encoder_layers=3, decoder_layers=3)\n",
    "\n",
    "optim = AdamW(model.parameters(), lr=3e-4)"
   ]
  },
  {
   "cell_type": "code",
   "execution_count": null,
   "metadata": {},
   "outputs": [],
   "source": [
    "from tqdm import tqdm\n",
    "\n",
    "num_steps = 1000\n",
    "batch_size = 16\n",
    "eval_after = 100\n",
    "\n",
    "for i in tqdm(range(num_steps)):\n",
    "    model.train()\n",
    "    samples = torch.LongTensor([random.randint(0, 0) for _ in range(batch_size)])\n",
    "    input_ids = source_corpus[samples]\n",
    "    output_ids = target_corpus[samples]\n",
    "    loss, n = model.step(input_ids, output_ids)\n",
    "    \n",
    "    optim.zero_grad()\n",
    "    (loss / n).backward()\n",
    "    optim.step()\n",
    "    \n",
    "    if (i + 1) % eval_after == 0:\n",
    "        print(f'most recent loss: {loss / n}')\n",
    "        # model.eval()\n",
    "        # tot_loss = 0\n",
    "        # for j in range(10):\n",
    "        #     input_ids = source_corpus[900+10*j:910+10*j]\n",
    "        #     output_ids = target_corpus[900+10*j:910+10*j]\n",
    "        #     loss, _ = model.step(input_ids, output_ids)\n",
    "        #     tot_loss += loss\n",
    "        # print(f'eval loss: {tot_loss / (100 * 19)}')"
   ]
  },
  {
   "cell_type": "code",
   "execution_count": null,
   "metadata": {},
   "outputs": [],
   "source": [
    "samples = torch.LongTensor([random.randint(0, 900) for _ in range(1)])\n",
    "input_ids = source_corpus[samples]\n",
    "output_ids = target_corpus[samples]\n",
    "\n",
    "print(input_ids, output_ids)\n",
    "\n",
    "model.eval()\n",
    "src, _ = model.get_src(input_ids)\n",
    "tgt, _ = model.get_src(output_ids)"
   ]
  },
  {
   "cell_type": "code",
   "execution_count": null,
   "metadata": {},
   "outputs": [],
   "source": [
    "logits, *_ = model.forward(src, tgt, None, None)\n",
    "tok_probs = F.log_softmax(logits, dim=-1)"
   ]
  },
  {
   "cell_type": "code",
   "execution_count": null,
   "metadata": {},
   "outputs": [],
   "source": [
    "print(tok_probs[:, :-1])\n",
    "\n",
    "print(output_ids[:, 1:])"
   ]
  },
  {
   "cell_type": "code",
   "execution_count": null,
   "metadata": {},
   "outputs": [],
   "source": [
    "from model import xent\n",
    "\n",
    "xent(\n",
    "    tok_probs[:, :-1],\n",
    "    F.one_hot(output_ids[:, 1:], num_classes=6),\n",
    "    ignore=-1\n",
    ")"
   ]
  },
  {
   "cell_type": "code",
   "execution_count": null,
   "metadata": {},
   "outputs": [],
   "source": [
    "F.softmax(logits, dim=-1).shape"
   ]
  }
 ],
 "metadata": {
  "kernelspec": {
   "display_name": "ddm",
   "language": "python",
   "name": "python3"
  },
  "language_info": {
   "codemirror_mode": {
    "name": "ipython",
    "version": 3
   },
   "file_extension": ".py",
   "mimetype": "text/x-python",
   "name": "python",
   "nbconvert_exporter": "python",
   "pygments_lexer": "ipython3",
   "version": "3.8.12"
  }
 },
 "nbformat": 4,
 "nbformat_minor": 2
}
