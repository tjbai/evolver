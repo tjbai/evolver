{
 "cells": [
  {
   "cell_type": "code",
   "execution_count": 2,
   "metadata": {},
   "outputs": [],
   "source": [
    "%load_ext autoreload\n",
    "%autoreload 2"
   ]
  },
  {
   "cell_type": "code",
   "execution_count": 3,
   "metadata": {},
   "outputs": [],
   "source": [
    "import sys\n",
    "if '..' not in sys.path:\n",
    "    sys.path.append('..')"
   ]
  },
  {
   "cell_type": "code",
   "execution_count": 207,
   "metadata": {},
   "outputs": [],
   "source": [
    "import random\n",
    "\n",
    "n = 4\n",
    "\n",
    "source = [i for i in range(n)]\n",
    "# target = sorted(source, key=lambda _: random.random())\n",
    "target = source\n",
    "mapping = {k: v for k, v in zip(source, target)}\n",
    "\n",
    "mapping[n] = n      # BOS\n",
    "mapping[n+1] = n+1  # EOS"
   ]
  },
  {
   "cell_type": "code",
   "execution_count": 208,
   "metadata": {},
   "outputs": [
    {
     "data": {
      "text/plain": [
       "([4, 0, 2, 0, 5], [4, 0, 2, 0, 5])"
      ]
     },
     "execution_count": 208,
     "metadata": {},
     "output_type": "execute_result"
    }
   ],
   "source": [
    "def genseq(N):\n",
    "    a = [n]\n",
    "    for _ in range(N-2):\n",
    "        a.append(random.randint(0, n-1))\n",
    "    a.append(n+1)\n",
    "    return a, [mapping[i] for i in a]\n",
    "\n",
    "genseq(5)"
   ]
  },
  {
   "cell_type": "code",
   "execution_count": 209,
   "metadata": {},
   "outputs": [],
   "source": [
    "import torch\n",
    "import torch.nn.functional as F\n",
    "\n",
    "source_corpus = []\n",
    "target_corpus = []\n",
    "\n",
    "for _ in range(1):\n",
    "    a, b = genseq(20)\n",
    "    source_corpus.append(a)\n",
    "    target_corpus.append(b)\n",
    "    \n",
    "source_corpus = torch.LongTensor(source_corpus)\n",
    "target_corpus = torch.LongTensor(target_corpus)"
   ]
  },
  {
   "cell_type": "code",
   "execution_count": 210,
   "metadata": {},
   "outputs": [],
   "source": [
    "from model import Transformer\n",
    "from torch.optim import AdamW\n",
    "\n",
    "n = 4\n",
    "\n",
    "model = Transformer(d_model=10, nhead=2, max_len=20, vocab_size=n+2,\n",
    "                    encoder_layers=3, decoder_layers=3)\n",
    "\n",
    "optim = AdamW(model.parameters(), lr=3e-4)"
   ]
  },
  {
   "cell_type": "code",
   "execution_count": 213,
   "metadata": {},
   "outputs": [
    {
     "name": "stderr",
     "output_type": "stream",
     "text": [
      " 10%|█         | 102/1000 [00:06<00:53, 16.82it/s]"
     ]
    },
    {
     "name": "stdout",
     "output_type": "stream",
     "text": [
      "most recent loss: 0.2001218944787979\n"
     ]
    },
    {
     "name": "stderr",
     "output_type": "stream",
     "text": [
      " 20%|██        | 202/1000 [00:11<00:44, 18.07it/s]"
     ]
    },
    {
     "name": "stdout",
     "output_type": "stream",
     "text": [
      "most recent loss: 0.15626995265483856\n"
     ]
    },
    {
     "name": "stderr",
     "output_type": "stream",
     "text": [
      " 30%|███       | 302/1000 [00:18<00:39, 17.62it/s]"
     ]
    },
    {
     "name": "stdout",
     "output_type": "stream",
     "text": [
      "most recent loss: 0.14646567404270172\n"
     ]
    },
    {
     "name": "stderr",
     "output_type": "stream",
     "text": [
      " 40%|████      | 402/1000 [00:23<00:32, 18.27it/s]"
     ]
    },
    {
     "name": "stdout",
     "output_type": "stream",
     "text": [
      "most recent loss: 0.18834511935710907\n"
     ]
    },
    {
     "name": "stderr",
     "output_type": "stream",
     "text": [
      " 50%|█████     | 502/1000 [00:29<00:27, 18.39it/s]"
     ]
    },
    {
     "name": "stdout",
     "output_type": "stream",
     "text": [
      "most recent loss: 0.17577792704105377\n"
     ]
    },
    {
     "name": "stderr",
     "output_type": "stream",
     "text": [
      " 60%|██████    | 602/1000 [00:34<00:21, 18.25it/s]"
     ]
    },
    {
     "name": "stdout",
     "output_type": "stream",
     "text": [
      "most recent loss: 0.14238756895065308\n"
     ]
    },
    {
     "name": "stderr",
     "output_type": "stream",
     "text": [
      " 70%|███████   | 702/1000 [00:40<00:18, 16.40it/s]"
     ]
    },
    {
     "name": "stdout",
     "output_type": "stream",
     "text": [
      "most recent loss: 0.09377985447645187\n"
     ]
    },
    {
     "name": "stderr",
     "output_type": "stream",
     "text": [
      " 80%|████████  | 802/1000 [00:45<00:10, 18.39it/s]"
     ]
    },
    {
     "name": "stdout",
     "output_type": "stream",
     "text": [
      "most recent loss: 0.08685314655303955\n"
     ]
    },
    {
     "name": "stderr",
     "output_type": "stream",
     "text": [
      " 90%|█████████ | 902/1000 [00:51<00:05, 18.31it/s]"
     ]
    },
    {
     "name": "stdout",
     "output_type": "stream",
     "text": [
      "most recent loss: 0.05950372666120529\n"
     ]
    },
    {
     "name": "stderr",
     "output_type": "stream",
     "text": [
      "100%|██████████| 1000/1000 [00:56<00:00, 17.63it/s]"
     ]
    },
    {
     "name": "stdout",
     "output_type": "stream",
     "text": [
      "most recent loss: 0.13522973656654358\n"
     ]
    },
    {
     "name": "stderr",
     "output_type": "stream",
     "text": [
      "\n"
     ]
    }
   ],
   "source": [
    "from tqdm import tqdm\n",
    "\n",
    "num_steps = 1000\n",
    "batch_size = 16\n",
    "eval_after = 100\n",
    "\n",
    "for i in tqdm(range(num_steps)):\n",
    "    model.train()\n",
    "    samples = torch.LongTensor([random.randint(0, 0) for _ in range(batch_size)])\n",
    "    input_ids = source_corpus[samples]\n",
    "    output_ids = target_corpus[samples]\n",
    "    loss, n = model.step(input_ids, output_ids)\n",
    "    \n",
    "    optim.zero_grad()\n",
    "    (loss / n).backward()\n",
    "    optim.step()\n",
    "    \n",
    "    if (i + 1) % eval_after == 0:\n",
    "        print(f'most recent loss: {loss / n}')\n",
    "        # model.eval()\n",
    "        # tot_loss = 0\n",
    "        # for j in range(10):\n",
    "        #     input_ids = source_corpus[900+10*j:910+10*j]\n",
    "        #     output_ids = target_corpus[900+10*j:910+10*j]\n",
    "        #     loss, _ = model.step(input_ids, output_ids)\n",
    "        #     tot_loss += loss\n",
    "        # print(f'eval loss: {tot_loss / (100 * 19)}')"
   ]
  },
  {
   "cell_type": "code",
   "execution_count": 158,
   "metadata": {},
   "outputs": [
    {
     "name": "stdout",
     "output_type": "stream",
     "text": [
      "tensor([[4, 0, 3, 3, 0, 2, 0, 2, 0, 0, 1, 2, 2, 1, 2, 3, 2, 2, 2, 5]]) tensor([[4, 1, 2, 2, 1, 3, 1, 3, 1, 1, 0, 3, 3, 0, 3, 2, 3, 3, 3, 5]])\n"
     ]
    }
   ],
   "source": [
    "samples = torch.LongTensor([random.randint(0, 900) for _ in range(1)])\n",
    "input_ids = source_corpus[samples]\n",
    "output_ids = target_corpus[samples]\n",
    "\n",
    "print(input_ids, output_ids)\n",
    "\n",
    "model.eval()\n",
    "src, _ = model.get_src(input_ids)\n",
    "tgt, _ = model.get_src(output_ids)"
   ]
  },
  {
   "cell_type": "code",
   "execution_count": 167,
   "metadata": {},
   "outputs": [],
   "source": [
    "logits, *_ = model.forward(src, tgt, None, None)\n",
    "tok_probs = F.log_softmax(logits, dim=-1)"
   ]
  },
  {
   "cell_type": "code",
   "execution_count": 174,
   "metadata": {},
   "outputs": [
    {
     "name": "stdout",
     "output_type": "stream",
     "text": [
      "tensor([[[-7.8902, -1.0121, -1.5015, -0.8898, -8.5908, -6.0252],\n",
      "         [-7.9686, -1.2025, -1.4492, -0.7727, -9.1448, -5.9631],\n",
      "         [-8.0529, -1.1184, -1.8047, -0.6882, -8.8073, -5.1613],\n",
      "         [-8.0570, -1.1205, -1.8135, -0.6841, -8.8544, -5.1502],\n",
      "         [-7.9452, -1.2128, -1.4799, -0.7522, -9.2235, -5.7498],\n",
      "         [-7.9342, -1.1543, -1.5565, -0.7583, -8.8332, -5.3166],\n",
      "         [-7.9326, -1.2382, -1.4867, -0.7354, -9.2025, -5.4718],\n",
      "         [-7.8941, -1.1338, -1.4937, -0.7992, -8.7992, -5.6722],\n",
      "         [-7.8833, -1.2282, -1.4117, -0.7750, -9.2665, -6.0850],\n",
      "         [-7.8807, -1.2219, -1.4319, -0.7688, -9.2790, -6.0129],\n",
      "         [-7.6218, -1.0934, -1.7086, -0.7372, -9.1922, -5.3503],\n",
      "         [-7.9144, -1.1737, -1.5436, -0.7512, -8.8901, -5.3264],\n",
      "         [-7.9260, -1.1824, -1.5550, -0.7410, -8.7753, -5.2764],\n",
      "         [-7.4092, -1.0954, -1.7947, -0.7090, -9.1086, -5.0235],\n",
      "         [-7.8591, -1.1501, -1.4506, -0.8085, -8.8677, -5.8402],\n",
      "         [-8.0378, -1.1467, -1.8038, -0.6707, -8.8903, -5.1428],\n",
      "         [-7.8772, -1.1605, -1.4861, -0.7840, -8.9838, -5.7026],\n",
      "         [-7.9241, -1.2082, -1.5483, -0.7279, -8.8778, -5.2511],\n",
      "         [-7.5637, -5.5733, -5.2141, -3.9526, -8.0467, -0.0297]]],\n",
      "       grad_fn=<SliceBackward0>)\n",
      "tensor([[1, 2, 2, 1, 3, 1, 3, 1, 1, 0, 3, 3, 0, 3, 2, 3, 3, 3, 5]])\n"
     ]
    }
   ],
   "source": [
    "print(tok_probs[:, :-1])\n",
    "\n",
    "print(output_ids[:, 1:])"
   ]
  },
  {
   "cell_type": "code",
   "execution_count": 175,
   "metadata": {},
   "outputs": [
    {
     "data": {
      "text/plain": [
       "(tensor(32.0574, grad_fn=<NegBackward0>), tensor(19))"
      ]
     },
     "execution_count": 175,
     "metadata": {},
     "output_type": "execute_result"
    }
   ],
   "source": [
    "from model import xent\n",
    "\n",
    "xent(\n",
    "    tok_probs[:, :-1],\n",
    "    F.one_hot(output_ids[:, 1:], num_classes=6),\n",
    "    ignore=-1\n",
    ")"
   ]
  },
  {
   "cell_type": "code",
   "execution_count": 166,
   "metadata": {},
   "outputs": [
    {
     "data": {
      "text/plain": [
       "torch.Size([1, 20, 6])"
      ]
     },
     "execution_count": 166,
     "metadata": {},
     "output_type": "execute_result"
    }
   ],
   "source": [
    "F.softmax(logits, dim=-1).shape"
   ]
  }
 ],
 "metadata": {
  "kernelspec": {
   "display_name": "ddm",
   "language": "python",
   "name": "python3"
  },
  "language_info": {
   "codemirror_mode": {
    "name": "ipython",
    "version": 3
   },
   "file_extension": ".py",
   "mimetype": "text/x-python",
   "name": "python",
   "nbconvert_exporter": "python",
   "pygments_lexer": "ipython3",
   "version": "3.8.12"
  }
 },
 "nbformat": 4,
 "nbformat_minor": 2
}
