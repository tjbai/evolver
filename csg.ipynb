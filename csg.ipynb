{
 "cells": [
  {
   "cell_type": "code",
   "execution_count": 1,
   "metadata": {},
   "outputs": [],
   "source": [
    "%load_ext autoreload\n",
    "%autoreload 2"
   ]
  },
  {
   "cell_type": "code",
   "execution_count": null,
   "metadata": {},
   "outputs": [],
   "source": [
    "from csg import CSG\n",
    "\n",
    "csg = CSG()\n",
    "\n",
    "program = csg.generate(max_depth=5)\n",
    "\n",
    "tree = csg.parse(program)\n",
    "\n",
    "tree"
   ]
  },
  {
   "cell_type": "markdown",
   "metadata": {},
   "source": [
    "# example\n",
    "\n",
    "```\n",
    "'( Add ( Sub ( Quad ( Num 12 ) ( Num 7 ) ( Num 0 ) ( Num 10 ) ( Angle 180 ) ) ( Sub ( Circle ( Num 10 ) ( Num 6 ) ( Num 5 ) ) ( Quad ( Num 12 ) ( Num 0 ) ( Num 8 ) ( Num 5 ) ( Angle 180 ) ) ) ) ( Add ( Circle ( Num 2 ) ( Num 12 ) ( Num 3 ) ) ( Add ( Circle ( Num 0 ) ( Num 11 ) ( Num 14 ) ) ( Quad ( Num 11 ) ( Num 10 ) ( Num 12 ) ( Num 12 ) ( Angle 270 ) ) ) ) )'\n",
    "```"
   ]
  },
  {
   "cell_type": "code",
   "execution_count": 46,
   "metadata": {},
   "outputs": [],
   "source": [
    "from csg import CSGTreeDataset\n",
    "\n",
    "dataset = CSGTreeDataset()\n",
    "\n",
    "edit_ids = dataset.to_traj(tree)"
   ]
  },
  {
   "cell_type": "code",
   "execution_count": null,
   "metadata": {},
   "outputs": [],
   "source": [
    "from csg import CSGDataset\n",
    "from torch.utils.data import DataLoader\n",
    "\n",
    "dataset = CSGDataset()\n",
    "loader = DataLoader(dataset, batch_size=3, collate_fn=dataset.collate_fn)"
   ]
  },
  {
   "cell_type": "code",
   "execution_count": null,
   "metadata": {},
   "outputs": [],
   "source": [
    "from csg import CSGTreeDataset\n",
    "from torch.utils.data import DataLoader\n",
    "\n",
    "dataset = CSGTreeDataset()\n",
    "loader = DataLoader(dataset, batch_size=5, collate_fn=dataset.collate_fn)"
   ]
  },
  {
   "cell_type": "code",
   "execution_count": 24,
   "metadata": {},
   "outputs": [],
   "source": [
    "from torch.utils.data import DataLoader\n",
    "\n",
    "from csg import (\n",
    "    Evolver, DecoderOnlyTransformer,\n",
    "    CSGTreeDataset, CSGDataset,\n",
    "    CSG\n",
    ")\n",
    "\n",
    "csg = CSG()\n",
    "\n",
    "# model = DecoderOnlyTransformer(\n",
    "#     d_model=256,\n",
    "#     dim_feedforward=256*4,\n",
    "#     nhead=16,\n",
    "#     dropout=0.1,\n",
    "#     layer_norm_eps=1e-5,\n",
    "#     decoder_layers=8,\n",
    "#     vocab_size=csg.vocab_size,\n",
    "#     max_len=256\n",
    "# )\n",
    "\n",
    "model = Evolver(\n",
    "    d_model=256,\n",
    "    dim_feedforward=256*4,\n",
    "    nhead=16,\n",
    "    dropout=0.1,\n",
    "    layer_norm_eps=1e-5,\n",
    "    encoder_layers=6,\n",
    "    decoder_layers=2,\n",
    "    vocab_size=csg.vocab_size,\n",
    "    max_len=256,\n",
    "    pad_token_id=csg.tok_to_id['PAD'],\n",
    "    bos_token_id=csg.tok_to_id['BOS'],\n",
    "    eos_token_id=csg.tok_to_id['EOS'],\n",
    "    root_id=csg.tok_to_id['s'],\n",
    "    name=None\n",
    ")\n",
    "\n",
    "dataset = CSGTreeDataset()\n",
    "\n",
    "loader = DataLoader(dataset, batch_size=5, collate_fn=dataset.collate_fn)"
   ]
  },
  {
   "cell_type": "code",
   "execution_count": null,
   "metadata": {},
   "outputs": [],
   "source": [
    "batch = next(iter(loader))\n",
    "\n",
    "model.step(batch, False)"
   ]
  },
  {
   "cell_type": "code",
   "execution_count": null,
   "metadata": {},
   "outputs": [],
   "source": [
    "!python csg.py --config=configs/csg/ar.json --local"
   ]
  },
  {
   "cell_type": "code",
   "execution_count": null,
   "metadata": {},
   "outputs": [],
   "source": [
    "!python csg.py --config=configs/csg/evo.json --local"
   ]
  }
 ],
 "metadata": {
  "kernelspec": {
   "display_name": "evo",
   "language": "python",
   "name": "python3"
  },
  "language_info": {
   "codemirror_mode": {
    "name": "ipython",
    "version": 3
   },
   "file_extension": ".py",
   "mimetype": "text/x-python",
   "name": "python",
   "nbconvert_exporter": "python",
   "pygments_lexer": "ipython3",
   "version": "3.8.19"
  }
 },
 "nbformat": 4,
 "nbformat_minor": 2
}
