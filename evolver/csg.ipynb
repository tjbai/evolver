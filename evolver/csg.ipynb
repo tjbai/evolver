{
 "cells": [
  {
   "cell_type": "code",
   "execution_count": 1,
   "metadata": {},
   "outputs": [],
   "source": [
    "%load_ext autoreload\n",
    "%autoreload 2"
   ]
  },
  {
   "cell_type": "markdown",
   "metadata": {},
   "source": [
    "## evolver"
   ]
  },
  {
   "cell_type": "code",
   "execution_count": null,
   "metadata": {},
   "outputs": [],
   "source": [
    "import torch\n",
    "from csg import Evolver, CSG, CSGTreeDataset\n",
    "from torch.utils.data import DataLoader\n",
    "\n",
    "csg = CSG()\n",
    "\n",
    "model = Evolver(\n",
    "    d_model=256,\n",
    "    dim_feedforward=256*4,\n",
    "    nhead=16,\n",
    "    dropout=0.1,\n",
    "    layer_norm_eps=1e-5,\n",
    "    encoder_layers=4,\n",
    "    decoder_layers=4,\n",
    "    vocab_size=csg.vocab_size,\n",
    "    max_len=256,\n",
    "    pad_token_id=csg.tok_to_id['PAD'],\n",
    "    bos_token_id=csg.tok_to_id['BOS'],\n",
    "    eos_token_id=csg.tok_to_id['EOS'],\n",
    "    root_id=csg.tok_to_id['s'],\n",
    "    csg=csg,\n",
    "    name=None\n",
    ")\n",
    "\n",
    "# model.load_state_dict(torch.load('csg_evolver_256d_4enc_4dec-20240924_123548_45000.pt', map_location='cpu')['model'])\n",
    "model.load_state_dict(torch.load('csg_evolver_256d_4enc_4dec-20240925_232201_45000.pt', map_location='cpu')['model'])\n",
    "\n",
    "dataset = CSGTreeDataset()\n",
    "loader = DataLoader(dataset, batch_size=5, collate_fn=dataset.collate_fn)"
   ]
  },
  {
   "cell_type": "code",
   "execution_count": null,
   "metadata": {},
   "outputs": [],
   "source": [
    "import matplotlib.pyplot as plt\n",
    "\n",
    "batch = next(iter(loader))\n",
    "\n",
    "print(batch['programs'][0])\n",
    "\n",
    "plt.imshow(batch['imgs'][0].squeeze(), cmap='gray')\n",
    "plt.show()"
   ]
  },
  {
   "cell_type": "code",
   "execution_count": null,
   "metadata": {},
   "outputs": [],
   "source": [
    "# model.eval()\n",
    "model.train()\n",
    "\n",
    "traj, output_ids = model._generate_unbatched(batch['imgs'][0], max_depth=20, max_steps=100)\n",
    "\n",
    "# output_ids = model.generate(batch['imgs'], max_depth=20, max_steps=100)"
   ]
  },
  {
   "cell_type": "code",
   "execution_count": null,
   "metadata": {},
   "outputs": [],
   "source": [
    "for t in traj:\n",
    "    print(csg.detokenize_tensor(t))\n",
    "\n",
    "# csg.detokenize_tensor(output_ids)\n",
    "\n",
    "# from csg import evaluate"
   ]
  },
  {
   "cell_type": "code",
   "execution_count": null,
   "metadata": {},
   "outputs": [],
   "source": [
    "csg.render('( Circle ( Num 3 ) ( Num 2 ) ( Num 8 ) )')"
   ]
  },
  {
   "cell_type": "markdown",
   "metadata": {},
   "source": [
    "## decoder only"
   ]
  },
  {
   "cell_type": "code",
   "execution_count": null,
   "metadata": {},
   "outputs": [],
   "source": [
    "import torch\n",
    "from torch.utils.data import DataLoader\n",
    "from csg import DecoderOnlyTransformer, CSGDataset, CSG\n",
    "\n",
    "csg = CSG()\n",
    "\n",
    "model = DecoderOnlyTransformer(\n",
    "    d_model=256,\n",
    "    dim_feedforward=256*4,\n",
    "    nhead=16,\n",
    "    dropout=0.1,\n",
    "    layer_norm_eps=1e-5,\n",
    "    decoder_layers=8,\n",
    "    vocab_size=csg.vocab_size,\n",
    "    max_len=256,\n",
    "    pad_token_id=csg.tok_to_id['PAD'],\n",
    "    bos_token_id=csg.tok_to_id['BOS'],\n",
    "    eos_token_id=csg.tok_to_id['EOS'],\n",
    "    name=None\n",
    ")\n",
    "\n",
    "model.load_state_dict(torch.load('csg_decoder_only_256d_0enc_8dec-20240923_011743_100000.pt', map_location='cpu')['model'])\n",
    "\n",
    "dataset = CSGDataset()\n",
    "loader = DataLoader(dataset, batch_size=5, collate_fn=dataset.collate_fn)"
   ]
  },
  {
   "cell_type": "code",
   "execution_count": null,
   "metadata": {},
   "outputs": [],
   "source": [
    "import matplotlib.pyplot as plt\n",
    "\n",
    "batch = next(iter(loader))\n",
    "img = batch['imgs'][0]\n",
    "print(batch['programs'][0])\n",
    "\n",
    "plt.imshow(img.squeeze(), cmap='gray')\n",
    "plt.show()"
   ]
  },
  {
   "cell_type": "code",
   "execution_count": null,
   "metadata": {},
   "outputs": [],
   "source": [
    "program = batch['programs'][0]\n",
    "tree = csg.parse(program)\n",
    "\n",
    "for i in range(10):\n",
    "    print(csg.expand(tree, max_depth=i))"
   ]
  },
  {
   "cell_type": "code",
   "execution_count": null,
   "metadata": {},
   "outputs": [],
   "source": [
    "output_ids = model.generate(batch['imgs'][0].unsqueeze(0))\n",
    "\n",
    "programs = csg.detokenize_tensor(output_ids, skip_special_tokens=True)\n",
    "print(programs[0])\n",
    "\n",
    "csg.render(programs[0])"
   ]
  },
  {
   "cell_type": "code",
   "execution_count": null,
   "metadata": {},
   "outputs": [],
   "source": [
    "print(programs[0])\n",
    "tree = csg.parse(programs[0])\n",
    "for i in range(10): print(csg.expand(tree, max_depth=i))"
   ]
  },
  {
   "cell_type": "code",
   "execution_count": null,
   "metadata": {},
   "outputs": [],
   "source": [
    "!python csg.py --config=configs/csg/ar.json --local"
   ]
  },
  {
   "cell_type": "code",
   "execution_count": null,
   "metadata": {},
   "outputs": [],
   "source": [
    "!python csg.py --config=configs/csg/evo.json --local"
   ]
  }
 ],
 "metadata": {
  "kernelspec": {
   "display_name": "evo",
   "language": "python",
   "name": "python3"
  },
  "language_info": {
   "codemirror_mode": {
    "name": "ipython",
    "version": 3
   },
   "file_extension": ".py",
   "mimetype": "text/x-python",
   "name": "python",
   "nbconvert_exporter": "python",
   "pygments_lexer": "ipython3",
   "version": "3.8.19"
  }
 },
 "nbformat": 4,
 "nbformat_minor": 2
}
