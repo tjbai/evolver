{
 "cells": [
  {
   "cell_type": "code",
   "execution_count": null,
   "metadata": {},
   "outputs": [],
   "source": [
    "import sys\n",
    "if '..' not in sys.path:\n",
    "    sys.path.append('..')"
   ]
  },
  {
   "cell_type": "code",
   "execution_count": null,
   "metadata": {},
   "outputs": [],
   "source": [
    "from transformers import BertTokenizer\n",
    "\n",
    "tokenizer = BertTokenizer.from_pretrained('bert-base-uncased')\n",
    "\n",
    "def noise(seq):\n",
    "    traj = [] \n",
    "    toks = tokenizer(seq, max_length=512, truncation=True)['input_ids'][1:] # remove CLS token\n",
    "    N = len(toks)\n",
    "    \n",
    "    while toks:\n",
    "        toks = toks[:len(toks)//2]\n",
    "        traj.append(tokenizer.decode(toks))\n",
    "        \n",
    "    return traj[::-1], 0, N"
   ]
  },
  {
   "cell_type": "code",
   "execution_count": null,
   "metadata": {},
   "outputs": [],
   "source": [
    "import os\n",
    "import json\n",
    "from tqdm import tqdm\n",
    "\n",
    "lengths = []\n",
    "\n",
    "with open('../data/imdb/imdb_train_1.jsonl', 'w') as train_f, open('../data/imdb/imdb_dev_1.jsonl', 'w') as dev_f:\n",
    "    for i, file in tqdm(enumerate(os.listdir('../data/imdb/raw/train/neg'))):\n",
    "        df = train_f if i < 10000 else dev_f\n",
    "        with open(f'../data/imdb/raw/train/neg/{file}', 'r') as f:\n",
    "            seq = f.read()\n",
    "            *traj, N = noise(seq)\n",
    "            json.dump(traj, df)\n",
    "            df.write('\\n')\n",
    "            lengths.append(N)\n",
    "            \n",
    "    for i, file in tqdm(enumerate(os.listdir('../data/imdb/raw/train/pos'))):\n",
    "        df = train_f if i < 10000 else dev_f\n",
    "        with open(f'../data/imdb/raw/train/pos/{file}', 'r') as f:\n",
    "            seq = f.read()\n",
    "            *traj, N = noise(seq)\n",
    "            json.dump(traj, df)\n",
    "            df.write('\\n')\n",
    "            lengths.append(N)"
   ]
  },
  {
   "cell_type": "code",
   "execution_count": null,
   "metadata": {},
   "outputs": [],
   "source": [
    "import matplotlib.pyplot as plt\n",
    "\n",
    "plt.hist(lengths)"
   ]
  }
 ],
 "metadata": {
  "kernelspec": {
   "display_name": "evo",
   "language": "python",
   "name": "python3"
  },
  "language_info": {
   "codemirror_mode": {
    "name": "ipython",
    "version": 3
   },
   "file_extension": ".py",
   "mimetype": "text/x-python",
   "name": "python",
   "nbconvert_exporter": "python",
   "pygments_lexer": "ipython3",
   "version": "3.8.19"
  }
 },
 "nbformat": 4,
 "nbformat_minor": 2
}
