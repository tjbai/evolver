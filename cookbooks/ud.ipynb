{
 "cells": [
  {
   "cell_type": "code",
   "execution_count": null,
   "metadata": {},
   "outputs": [],
   "source": [
    "%load_ext autoreload\n",
    "%autoreload 2\n",
    "\n",
    "import sys\n",
    "if '..' not in sys.path:\n",
    "    sys.path.append('..')"
   ]
  },
  {
   "cell_type": "code",
   "execution_count": null,
   "metadata": {},
   "outputs": [],
   "source": [
    "import conllu\n",
    "\n",
    "with open('../data/ud/en_ewt-ud-train.conllu', 'r') as f:\n",
    "    sentences = conllu.parse(f.read())"
   ]
  },
  {
   "cell_type": "code",
   "execution_count": null,
   "metadata": {},
   "outputs": [],
   "source": [
    "!python ../dep.py ../data/ud/en_ewt-ud-train.conllu ../data/ud_train.jsonl --redundant=1 --weight=0.1"
   ]
  },
  {
   "cell_type": "code",
   "execution_count": null,
   "metadata": {},
   "outputs": [],
   "source": [
    "!python ../dep.py ../data/ud/en_ewt-ud-dev.conllu ../data/ud_dev.jsonl --redundant=3 --weight=0.1"
   ]
  },
  {
   "cell_type": "code",
   "execution_count": null,
   "metadata": {},
   "outputs": [],
   "source": [
    "from data import TrajectoryDataset\n",
    "from transformers import BertTokenizer\n",
    "\n",
    "tokenizer = BertTokenizer.from_pretrained('bert-base-uncased')\n",
    "\n",
    "train_dataset = TrajectoryDataset.from_disk(\n",
    "    path='../data/ud/ud_train.jsonl',\n",
    "    max_len=64,\n",
    "    tokenizer=tokenizer\n",
    ")\n",
    "\n",
    "eval_dataset = TrajectoryDataset.from_disk(\n",
    "    path='../data/ud/ud_dev.jsonl',\n",
    "    max_len=64,\n",
    "    tokenizer=tokenizer,\n",
    "    limit=100\n",
    ")"
   ]
  },
  {
   "cell_type": "code",
   "execution_count": null,
   "metadata": {},
   "outputs": [],
   "source": [
    "from torch.utils.data import DataLoader\n",
    "from data import StratifiedInfiniteSampler\n",
    "\n",
    "train_loader = DataLoader(\n",
    "    train_dataset,\n",
    "    batch_size=2,\n",
    "    sampler=StratifiedInfiniteSampler(train_dataset, 2),\n",
    "    collate_fn=lambda x: zip(*x)\n",
    ")\n",
    "\n",
    "eval_loader = DataLoader(\n",
    "    eval_dataset,\n",
    "    batch_size=1,\n",
    "    shuffle=True\n",
    ")"
   ]
  },
  {
   "cell_type": "code",
   "execution_count": null,
   "metadata": {},
   "outputs": [],
   "source": [
    "from model import Evolver\n",
    "from torch.optim import AdamW\n",
    "\n",
    "evolver = Evolver(\n",
    "    d_model=512,\n",
    "    nhead=8,\n",
    "    max_len=64,\n",
    "    encoder_layers=6,\n",
    "    decoder_layers=6,\n",
    "    device='cpu'\n",
    ")\n",
    "\n",
    "optim = AdamW(evolver.parameters(), lr=3e-4)"
   ]
  },
  {
   "cell_type": "code",
   "execution_count": null,
   "metadata": {},
   "outputs": [],
   "source": [
    "from train import train_evolver\n",
    "\n",
    "train_evolver(\n",
    "    evolver, optim, None,\n",
    "    train_loader, eval_loader,\n",
    "    train_steps=1,\n",
    "    grad_accum_steps=1,\n",
    "    checkpoint_at=2,\n",
    "    eval_at=1,\n",
    "    num_particles=5,\n",
    "    threshold=2,\n",
    "    temperature=1.0,\n",
    "    device='cpu',\n",
    "    prefix='test-local'\n",
    ")"
   ]
  },
  {
   "cell_type": "code",
   "execution_count": null,
   "metadata": {},
   "outputs": [],
   "source": [
    "from train import evaluate_evolver\n",
    "\n",
    "evaluate_evolver(evolver, eval_loader, 'cpu')"
   ]
  },
  {
   "cell_type": "code",
   "execution_count": null,
   "metadata": {},
   "outputs": [],
   "source": [
    "!python ../train.py \\\n",
    "    --train ../data/ud/ud.jsonl \\\n",
    "    --eval ../data/ud/en_ewt-ud-dev.conllu \\\n",
    "    --config ../configs/ud.json \\\n",
    "    --prefix ud-1.0.0 \\\n",
    "    --device cpu"
   ]
  },
  {
   "cell_type": "code",
   "execution_count": null,
   "metadata": {},
   "outputs": [],
   "source": [
    "from data import Seq2SeqDataset\n",
    "from transformers import BertTokenizer\n",
    "\n",
    "dataset = Seq2SeqDataset.from_trajectories(\n",
    "    '../data/ud/ud.jsonl',\n",
    "    denoising=True,\n",
    "    max_len=64,\n",
    "    tokenizer=BertTokenizer.from_pretrained('bert-base-uncased')\n",
    ")"
   ]
  },
  {
   "cell_type": "code",
   "execution_count": null,
   "metadata": {},
   "outputs": [],
   "source": [
    "from torch.utils.data import DataLoader\n",
    "from data import StratifiedInfiniteSampler\n",
    "\n",
    "loader = DataLoader(\n",
    "    dataset,\n",
    "    batch_size=128,\n",
    "    sampler=StratifiedInfiniteSampler(dataset, 128)\n",
    ")"
   ]
  }
 ],
 "metadata": {
  "kernelspec": {
   "display_name": "evo",
   "language": "python",
   "name": "python3"
  },
  "language_info": {
   "codemirror_mode": {
    "name": "ipython",
    "version": 3
   },
   "file_extension": ".py",
   "mimetype": "text/x-python",
   "name": "python",
   "nbconvert_exporter": "python",
   "pygments_lexer": "ipython3",
   "version": "3.8.19"
  }
 },
 "nbformat": 4,
 "nbformat_minor": 2
}
