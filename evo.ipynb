{
 "cells": [
  {
   "cell_type": "code",
   "execution_count": 2,
   "metadata": {},
   "outputs": [
    {
     "name": "stdout",
     "output_type": "stream",
     "text": [
      "The autoreload extension is already loaded. To reload it, use:\n",
      "  %reload_ext autoreload\n"
     ]
    }
   ],
   "source": [
    "%load_ext autoreload\n",
    "%autoreload 2"
   ]
  },
  {
   "cell_type": "code",
   "execution_count": null,
   "metadata": {},
   "outputs": [],
   "source": [
    "from evo import *\n",
    "\n",
    "params = {\n",
    "    'd_model': 512,\n",
    "    'nhead': 8,\n",
    "    'dim_feedforward': 2048,\n",
    "    'dropout': 0.1,\n",
    "    'encoder_layers': 3,\n",
    "    'decoder_layers': 3,\n",
    "    'max_len': 64\n",
    "}\n",
    "\n",
    "evolver = Evolver(**params)\n",
    "ps_evolver = PointerStyleEvolver(**params)"
   ]
  },
  {
   "cell_type": "code",
   "execution_count": null,
   "metadata": {},
   "outputs": [],
   "source": [
    "from data import *\n",
    "from transformers import BertTokenizer\n",
    "\n",
    "tokenizer = BertTokenizer.from_pretrained('bert-base-uncased')\n",
    "\n",
    "train_loader = supervised_loader(\n",
    "    path='data/ud/ud_train_3.0.jsonl',\n",
    "    max_len=10,\n",
    "    tokenizer=tokenizer,\n",
    "    batch_size=4,\n",
    "    cache_prefix=None,\n",
    "    all_tokens=True,\n",
    "    limit=20,\n",
    "    sampler=StratifiedInfiniteSampler\n",
    ")\n",
    "\n",
    "eval_loader = unsupervised_loader(\n",
    "    path='data/toy/toy.jsonl',\n",
    "    max_len=10,\n",
    "    tokenizer=tokenizer,\n",
    "    batch_size=4,\n",
    "    sampler=StratifiedInfiniteSampler\n",
    ")"
   ]
  },
  {
   "cell_type": "code",
   "execution_count": null,
   "metadata": {},
   "outputs": [],
   "source": [
    "from run import apply_edits\n",
    "\n",
    "traj_input_ids, _, traj_edit_tgts, _ = next(iter(train_loader))\n",
    "\n",
    "apply_edits(traj_input_ids[:, 0], tuple(map(lambda x: x[:, 0], traj_edit_tgts)))"
   ]
  },
  {
   "cell_type": "code",
   "execution_count": null,
   "metadata": {},
   "outputs": [],
   "source": [
    "from torch.optim import AdamW\n",
    "\n",
    "kwargs = {\n",
    "    'train_loader': train_loader,\n",
    "    'eval_loader': eval_loader,\n",
    "    'train_steps': 1,\n",
    "    'eval_steps': 2,\n",
    "    'grad_accum_steps': 1,\n",
    "    'clip_gradients': False,\n",
    "    'checkpoint_at': 20,\n",
    "    'eval_at': 1\n",
    "}\n",
    "\n",
    "print('STARTING REGULAR EVOLVER')\n",
    "train_evolver(evolver, AdamW(evolver.parameters(), lr=3e-4), None, **kwargs)\n",
    "\n",
    "print('STARTING PS EVOLVER')\n",
    "train_evolver(ps_evolver, AdamW(ps_evolver.parameters(), lr=3e-4), None, **kwargs)"
   ]
  },
  {
   "cell_type": "markdown",
   "metadata": {},
   "source": [
    "## multihead pointer"
   ]
  },
  {
   "cell_type": "code",
   "execution_count": null,
   "metadata": {},
   "outputs": [],
   "source": [
    "import torch\n",
    "from trans import MultiheadPointer\n",
    "\n",
    "pointer = MultiheadPointer(512, 8)\n",
    "\n",
    "mem = torch.randn(3, 10, 512)\n",
    "tgt = torch.randn(3, 5, 512)\n",
    "src_pad_mask = torch.full((3, 10), True)\n",
    "src_pad_mask[:, :7] = False\n",
    "\n",
    "idx_weights = pointer(tgt, mem, key_padding_mask=src_pad_mask)\n",
    "idx_weights"
   ]
  },
  {
   "cell_type": "markdown",
   "metadata": {},
   "source": [
    "## regressions"
   ]
  },
  {
   "cell_type": "code",
   "execution_count": null,
   "metadata": {},
   "outputs": [],
   "source": [
    "!python evo.py --config=configs/toy/sup-toy.json --local"
   ]
  },
  {
   "cell_type": "code",
   "execution_count": null,
   "metadata": {},
   "outputs": [],
   "source": [
    "!python evo.py --config=configs/toy/ps-unsup-toy.json"
   ]
  },
  {
   "cell_type": "code",
   "execution_count": null,
   "metadata": {},
   "outputs": [],
   "source": [
    "# !python evo.py --config=configs/toy/ps-sup-toy.json\n",
    "!python evo.py --config=configs/toy/ps-sup-prefix-toy.json --local"
   ]
  },
  {
   "cell_type": "code",
   "execution_count": null,
   "metadata": {},
   "outputs": [],
   "source": [
    "!python evo.py --config=configs/toy/den-toy.json"
   ]
  },
  {
   "cell_type": "code",
   "execution_count": null,
   "metadata": {},
   "outputs": [],
   "source": [
    "!python evo.py --config=configs/toy/ar-d-toy.json"
   ]
  },
  {
   "cell_type": "code",
   "execution_count": null,
   "metadata": {},
   "outputs": [],
   "source": [
    "# !python evo.py --config=configs/toy/ar-toy.json --local\n",
    "!python evo.py --config=configs/toy/ar-prefix-toy.json --local"
   ]
  },
  {
   "cell_type": "markdown",
   "metadata": {},
   "source": [
    "## evolver sampling"
   ]
  },
  {
   "cell_type": "code",
   "execution_count": null,
   "metadata": {},
   "outputs": [],
   "source": [
    "import torch\n",
    "from evo import PointerStyleEvolver\n",
    "\n",
    "model = PointerStyleEvolver(pointer_attn=True)\n",
    "model.load_state_dict(torch.load('ps-sup-imdb-pattn_20240822_235245-9900.pt', map_location='cpu')['model'])\n",
    "_ = model.eval()"
   ]
  },
  {
   "cell_type": "code",
   "execution_count": null,
   "metadata": {},
   "outputs": [],
   "source": [
    "from run import sample_trajectory\n",
    "from utils import BT\n",
    "from data import get_input_ids\n",
    "from run import sample\n",
    "from const import *\n",
    "\n",
    "inputs = ['hello my name is', '']\n",
    "input_ids = get_input_ids(inputs, max_len=512, tokenizer=BT)\n",
    "\n",
    "traj_ids, traj_edits = sample_trajectory(model, input_ids, 5, {}, verbose=True)\n",
    "# edit_tgts, src = sample(model, input_ids, None)"
   ]
  },
  {
   "cell_type": "code",
   "execution_count": null,
   "metadata": {},
   "outputs": [],
   "source": [
    "from data import elaborate\n",
    "list(zip(*elaborate(traj_edits)))"
   ]
  },
  {
   "cell_type": "markdown",
   "metadata": {},
   "source": [
    "## conditional generation"
   ]
  },
  {
   "cell_type": "code",
   "execution_count": null,
   "metadata": {},
   "outputs": [],
   "source": [
    "from evo import Transformer\n",
    "from data import SequenceDataset, InfiniteSampler\n",
    "from utils import BT\n",
    "\n",
    "ds = SequenceDataset.from_trajectories(\n",
    "    path='data/toy/toy.jsonl',\n",
    "    denoising=False,\n",
    "    max_len=10,\n",
    "    tokenizer=BT,\n",
    "    batch_size=2,\n",
    "    sampler=InfiniteSampler\n",
    ")"
   ]
  },
  {
   "cell_type": "code",
   "execution_count": null,
   "metadata": {},
   "outputs": [],
   "source": [
    "import torch\n",
    "from torch.utils.data import DataLoader\n",
    "from const import *\n",
    "\n",
    "loader = DataLoader(ds, batch_size=2)\n",
    "input_ids, output_ids = next(iter(loader))\n",
    "\n",
    "input_ids[:, 1] = 2\n",
    "input_ids[:, 2] = 102\n",
    "print(input_ids)\n",
    "\n",
    "logits = torch.randn_like(output_ids, dtype=torch.float)[:, :-1]\n",
    "print(logits)\n",
    "\n",
    "logits[(input_ids[:, 1:] != PAD_TOKEN_ID) & (input_ids[:, 1:] != EOS_TOKEN_ID)]"
   ]
  },
  {
   "cell_type": "markdown",
   "metadata": {},
   "source": [
    "## autoregressive sampling?"
   ]
  },
  {
   "cell_type": "code",
   "execution_count": null,
   "metadata": {},
   "outputs": [],
   "source": [
    "import torch\n",
    "from evo import Transformer\n",
    "from utils import BT\n",
    "from data import get_input_ids\n",
    "\n",
    "model = Transformer(encoder_layers=12, decoder_layers=0)\n",
    "model.load_state_dict(torch.load('ar-imdb_20240831_231923-0.pt', map_location='cpu')['model'])\n",
    "_ = model.eval()\n",
    "\n",
    "inputs = ['', 'hello', 'hello my']\n",
    "input_ids = get_input_ids(inputs, tokenizer=BT, max_len=512)\n",
    "\n",
    "input_ids"
   ]
  },
  {
   "cell_type": "code",
   "execution_count": null,
   "metadata": {},
   "outputs": [],
   "source": [
    "from run import sample_ar\n",
    "\n",
    "output_ids = sample_ar(model, input_ids, limit=10, verbose=True)"
   ]
  },
  {
   "cell_type": "code",
   "execution_count": null,
   "metadata": {},
   "outputs": [],
   "source": [
    "from data import SequenceDataset\n",
    "from utils import BT\n",
    "\n",
    "dataset = SequenceDataset.from_trajectories('data/imdb/imdb_train_4.jsonl', denoising=False, max_len=512, tokenizer=BT)\n",
    "\n",
    "# loader = DataLoader(dataset, batch_size=1, shuffle=True)\n",
    "dataset"
   ]
  },
  {
   "cell_type": "code",
   "execution_count": null,
   "metadata": {},
   "outputs": [],
   "source": [
    "from torch.utils.data import DataLoader\n",
    "\n",
    "loader = DataLoader(dataset, batch_size=1, shuffle=True)\n",
    "input_ids, output_ids = next(iter(loader))"
   ]
  },
  {
   "cell_type": "markdown",
   "metadata": {},
   "source": [
    "## gpt2 eval"
   ]
  },
  {
   "cell_type": "code",
   "execution_count": null,
   "metadata": {},
   "outputs": [],
   "source": [
    "from run import compute_ppl\n",
    "from transformers import GPT2LMHeadModel, GPT2Tokenizer\n",
    "\n",
    "model = GPT2LMHeadModel.from_pretrained('gpt2')\n",
    "tokenizer = GPT2Tokenizer.from_pretrained('gpt2')\n",
    "\n",
    "a, b = compute_ppl(model, tokenizer, 'hello my name is tj', 'cpu')"
   ]
  },
  {
   "cell_type": "markdown",
   "metadata": {},
   "source": [
    "## dagger"
   ]
  },
  {
   "cell_type": "code",
   "execution_count": null,
   "metadata": {},
   "outputs": [],
   "source": [
    "# prompted sampling...\n",
    "\n",
    "import torch\n",
    "from evo import PointerStyleEvolver\n",
    "\n",
    "model = PointerStyleEvolver(\n",
    "    d_model=64,\n",
    "    nhead=8,\n",
    "    max_len=10,\n",
    "    dim_feedforward=256,\n",
    "    dropout=0,\n",
    "    encoder_layers=3,\n",
    "    decoder_layers=3,\n",
    "    pointer_attn=True\n",
    ")\n",
    "\n",
    "model.load_state_dict(torch.load('checkpoints/ps-sup-prefix-toy_20240902_153226-500.pt')['model'])\n",
    "\n",
    "_ = model.eval()\n",
    "\n",
    "from const import *\n",
    "from run import sample\n",
    "\n",
    "input_ids = torch.zeros(3, 10, dtype=torch.long)\n",
    "input_ids[:, 0] = BOS_TOKEN_ID\n",
    "input_ids[:, 1] = 1037 # 'a'\n",
    "input_ids[:, 2] = 1037\n",
    "input_ids[:, 3] = EOS_TOKEN_ID\n",
    "input_ids[:, 4:] = PAD_TOKEN_ID\n",
    "\n",
    "prefix_mask = ~(input_ids.eq(PAD_TOKEN_ID) | input_ids.eq(EOS_TOKEN_ID))\n",
    "\n",
    "edit_tgts, _  = sample(\n",
    "    model, input_ids,\n",
    "    src=None, M=5, threshold=0, resample_at=1e9,\n",
    "    prefix_mask=prefix_mask, verbose=True\n",
    ")\n",
    "\n",
    "elaborate(edit_tgts)"
   ]
  },
  {
   "cell_type": "code",
   "execution_count": 41,
   "metadata": {},
   "outputs": [
    {
     "data": {
      "text/plain": [
       "-1"
      ]
     },
     "execution_count": 41,
     "metadata": {},
     "output_type": "execute_result"
    }
   ],
   "source": [
    "s1 = BT.decode(input_ids[1:-1])\n",
    "s1 = 'hello'\n",
    "s1.find('[SEP]')\n",
    "\n",
    "# s1[:s1.find('[SEP]')-1]"
   ]
  },
  {
   "cell_type": "code",
   "execution_count": 63,
   "metadata": {},
   "outputs": [
    {
     "data": {
      "text/plain": [
       "'m y'"
      ]
     },
     "execution_count": 63,
     "metadata": {},
     "output_type": "execute_result"
    }
   ],
   "source": [
    "BT.decode(2026)"
   ]
  },
  {
   "cell_type": "code",
   "execution_count": null,
   "metadata": {},
   "outputs": [],
   "source": []
  },
  {
   "cell_type": "code",
   "execution_count": 71,
   "metadata": {},
   "outputs": [],
   "source": [
    "from data import get_simalign_tgts, get_input_ids, elaborate, get_traj_edit_tgts\n",
    "from utils import BT, ALIGN\n",
    "\n",
    "s1, s2 = 'the red cat', 'the cat red'\n",
    "\n",
    "input_ids, output_ids = get_input_ids([s1, s2], max_len=512, tokenizer=BT)\n",
    "\n",
    "edit_tgts = get_simalign_tgts(input_ids[1:], output_ids[1:])"
   ]
  },
  {
   "cell_type": "code",
   "execution_count": 18,
   "metadata": {},
   "outputs": [
    {
     "name": "stdout",
     "output_type": "stream",
     "text": [
      "tensor([ 101, 7592, 2026, 2171, 2003, 1056, 3501,  102,    0,    0])\n",
      "tensor([ 101, 1056, 3501, 2003, 2026, 2171,  102,    0,    0,    0])\n"
     ]
    }
   ],
   "source": [
    "print(input_ids)\n",
    "print(output_ids)"
   ]
  },
  {
   "cell_type": "code",
   "execution_count": 3,
   "metadata": {},
   "outputs": [
    {
     "data": {
      "text/plain": [
       "'[CLS] hello my name is tj [SEP] [PAD] [PAD]'"
      ]
     },
     "execution_count": 3,
     "metadata": {},
     "output_type": "execute_result"
    }
   ],
   "source": [
    "BT.decode(input_ids)\n",
    "\n",
    "BT.decode()"
   ]
  },
  {
   "cell_type": "code",
   "execution_count": 3,
   "metadata": {},
   "outputs": [
    {
     "name": "stderr",
     "output_type": "stream",
     "text": [
      "/usr/local/anaconda3/envs/evo/lib/python3.8/site-packages/tqdm/auto.py:21: TqdmWarning: IProgress not found. Please update jupyter and ipywidgets. See https://ipywidgets.readthedocs.io/en/stable/user_install.html\n",
      "  from .autonotebook import tqdm as notebook_tqdm\n",
      "2024-09-13 22:22:28,916 - simalign.simalign - INFO - Initialized the EmbeddingLoader with model: bert-base-uncased\n",
      "tokenizing trajectories: 100%|██████████| 4/4 [00:00<00:00, 1893.80it/s]\n",
      "INFO:train:step: 0\n"
     ]
    },
    {
     "name": "stdout",
     "output_type": "stream",
     "text": [
      "torch.Size([6, 10])\n",
      "torch.Size([6, 1, 5])\n",
      "torch.Size([6, 10])\n",
      "torch.Size([6, 2, 5])\n",
      "torch.Size([6, 10])\n",
      "torch.Size([6, 3, 5])\n",
      "torch.Size([6, 10])\n",
      "torch.Size([6, 4, 5])\n",
      "torch.Size([6, 10])\n",
      "torch.Size([6, 5, 5])\n",
      "torch.Size([6, 10])\n",
      "torch.Size([6, 6, 5])\n",
      "torch.Size([6, 10])\n",
      "torch.Size([6, 7, 5])\n",
      "torch.Size([6, 10])\n",
      "torch.Size([6, 8, 5])\n",
      "torch.Size([6, 10])\n",
      "torch.Size([6, 9, 5])\n",
      "torch.Size([2, 10])\n",
      "torch.Size([2, 10, 5])\n",
      "torch.Size([2, 1, 512, 5])\n",
      "torch.Size([2, 10])\n",
      "torch.Size([2, 1, 512, 5])\n"
     ]
    },
    {
     "ename": "ValueError",
     "evalue": "too many values to unpack (expected 2)",
     "output_type": "error",
     "traceback": [
      "\u001b[0;31m---------------------------------------------------------------------------\u001b[0m",
      "\u001b[0;31mValueError\u001b[0m                                Traceback (most recent call last)",
      "Cell \u001b[0;32mIn[3], line 39\u001b[0m\n\u001b[1;32m     25\u001b[0m train_loader \u001b[38;5;241m=\u001b[39m unsupervised_loader(\n\u001b[1;32m     26\u001b[0m     path\u001b[38;5;241m=\u001b[39m\u001b[38;5;124m'\u001b[39m\u001b[38;5;124mdata/toy/toy.jsonl\u001b[39m\u001b[38;5;124m'\u001b[39m,\n\u001b[1;32m     27\u001b[0m     max_len\u001b[38;5;241m=\u001b[39m\u001b[38;5;241m10\u001b[39m,\n\u001b[0;32m   (...)\u001b[0m\n\u001b[1;32m     30\u001b[0m     sampler\u001b[38;5;241m=\u001b[39mStratifiedInfiniteSampler\n\u001b[1;32m     31\u001b[0m )\n\u001b[1;32m     33\u001b[0m pf_params \u001b[38;5;241m=\u001b[39m {\n\u001b[1;32m     34\u001b[0m     \u001b[38;5;124m'\u001b[39m\u001b[38;5;124mM\u001b[39m\u001b[38;5;124m'\u001b[39m: \u001b[38;5;241m3\u001b[39m,\n\u001b[1;32m     35\u001b[0m     \u001b[38;5;124m'\u001b[39m\u001b[38;5;124mthreshold\u001b[39m\u001b[38;5;124m'\u001b[39m: \u001b[38;5;241m1\u001b[39m,\n\u001b[1;32m     36\u001b[0m     \u001b[38;5;124m'\u001b[39m\u001b[38;5;124mresample_at\u001b[39m\u001b[38;5;124m'\u001b[39m: \u001b[38;5;241m20\u001b[39m \u001b[38;5;66;03m# need to fix this...\u001b[39;00m\n\u001b[1;32m     37\u001b[0m }\n\u001b[0;32m---> 39\u001b[0m \u001b[43mtrain_dagger\u001b[49m\u001b[43m(\u001b[49m\u001b[43mmodel\u001b[49m\u001b[43m,\u001b[49m\u001b[43m \u001b[49m\u001b[43moptim\u001b[49m\u001b[43m,\u001b[49m\u001b[43m \u001b[49m\u001b[43mtrain_loader\u001b[49m\u001b[43m,\u001b[49m\u001b[43m \u001b[49m\u001b[38;5;241;43m100\u001b[39;49m\u001b[43m,\u001b[49m\u001b[43m \u001b[49m\u001b[38;5;241;43m1e9\u001b[39;49m\u001b[43m,\u001b[49m\u001b[43m \u001b[49m\u001b[38;5;241;43m1e9\u001b[39;49m\u001b[43m,\u001b[49m\u001b[43m \u001b[49m\u001b[43mpf_params\u001b[49m\u001b[43m,\u001b[49m\u001b[43m \u001b[49m\u001b[43mmax_iters\u001b[49m\u001b[38;5;241;43m=\u001b[39;49m\u001b[38;5;241;43m10\u001b[39;49m\u001b[43m)\u001b[49m\n",
      "File \u001b[0;32m~/argo/projects/ddm/evolver/evo.py:763\u001b[0m, in \u001b[0;36mtrain_dagger\u001b[0;34m(model, optim, train_loader, train_steps, checkpoint_at, eval_at, pf_params, max_iters, start_step)\u001b[0m\n\u001b[1;32m    760\u001b[0m edit_tgts \u001b[38;5;241m=\u001b[39m get_simalign_tgts(input_ids, output_ids)\n\u001b[1;32m    761\u001b[0m \u001b[38;5;28mprint\u001b[39m(edit_tgts[\u001b[38;5;241m0\u001b[39m]\u001b[38;5;241m.\u001b[39mshape)\n\u001b[0;32m--> 763\u001b[0m edit_probs, _, \u001b[38;5;241m*\u001b[39m_ \u001b[38;5;241m=\u001b[39m \u001b[43mmodel\u001b[49m\u001b[38;5;241;43m.\u001b[39;49m\u001b[43mforward\u001b[49m\u001b[43m(\u001b[49m\u001b[43minput_ids\u001b[49m\u001b[43m,\u001b[49m\u001b[43m \u001b[49m\u001b[43medit_tgts\u001b[49m\u001b[43m,\u001b[49m\u001b[43m \u001b[49m\u001b[43msrc\u001b[49m\u001b[43m,\u001b[49m\u001b[43m \u001b[49m\u001b[43mt\u001b[49m\u001b[43m)\u001b[49m\n\u001b[1;32m    764\u001b[0m loss \u001b[38;5;241m=\u001b[39m model\u001b[38;5;241m.\u001b[39mloss(edit_probs, edit_tgts, ignore_mask\u001b[38;5;241m=\u001b[39mprefix_mask[:, \u001b[38;5;241m1\u001b[39m:])\n\u001b[1;32m    766\u001b[0m \u001b[38;5;28mprint\u001b[39m(loss)\n",
      "File \u001b[0;32m~/argo/projects/ddm/evolver/evo.py:375\u001b[0m, in \u001b[0;36mPointerStyleEvolver.forward\u001b[0;34m(self, input_ids, edit_tgts, src, t, mem, cache)\u001b[0m\n\u001b[1;32m    373\u001b[0m encoder, decoder \u001b[38;5;241m=\u001b[39m \u001b[38;5;28mself\u001b[39m\u001b[38;5;241m.\u001b[39m_get_codec(t)\n\u001b[1;32m    374\u001b[0m mem \u001b[38;5;241m=\u001b[39m encoder(src, src_key_padding_mask\u001b[38;5;241m=\u001b[39msrc_pad_mask) \u001b[38;5;28;01mif\u001b[39;00m mem \u001b[38;5;129;01mis\u001b[39;00m \u001b[38;5;28;01mNone\u001b[39;00m \u001b[38;5;28;01melse\u001b[39;00m mem\n\u001b[0;32m--> 375\u001b[0m tgt \u001b[38;5;241m=\u001b[39m \u001b[38;5;28;43mself\u001b[39;49m\u001b[38;5;241;43m.\u001b[39;49m\u001b[43mcompute_tgt\u001b[49m\u001b[43m(\u001b[49m\u001b[43minput_ids\u001b[49m\u001b[43m,\u001b[49m\u001b[43m \u001b[49m\u001b[43medit_tgts\u001b[49m\u001b[43m,\u001b[49m\u001b[43m \u001b[49m\u001b[43mmem\u001b[49m\u001b[43m)\u001b[49m\n\u001b[1;32m    376\u001b[0m h, (\u001b[38;5;241m*\u001b[39m_, attn_weights), cache \u001b[38;5;241m=\u001b[39m decoder(tgt, mem, cache\u001b[38;5;241m=\u001b[39mcache, memory_key_padding_mask\u001b[38;5;241m=\u001b[39msrc_pad_mask)\n\u001b[1;32m    378\u001b[0m op_logits \u001b[38;5;241m=\u001b[39m \u001b[38;5;28mself\u001b[39m\u001b[38;5;241m.\u001b[39m_to_op_logits(attn_weights, mem, tgt, h)\n",
      "File \u001b[0;32m~/argo/projects/ddm/evolver/evo.py:195\u001b[0m, in \u001b[0;36mEvolver.compute_tgt\u001b[0;34m(self, input_ids, edit_tgts, memory)\u001b[0m\n\u001b[1;32m    193\u001b[0m \u001b[38;5;28;01mif\u001b[39;00m \u001b[38;5;28mlen\u001b[39m(input_ids\u001b[38;5;241m.\u001b[39mshape) \u001b[38;5;241m==\u001b[39m \u001b[38;5;241m1\u001b[39m: input_ids \u001b[38;5;241m=\u001b[39m input_ids\u001b[38;5;241m.\u001b[39munsqueeze(\u001b[38;5;241m0\u001b[39m)\u001b[38;5;241m.\u001b[39mexpand(B, \u001b[38;5;241m-\u001b[39m\u001b[38;5;241m1\u001b[39m)\n\u001b[1;32m    194\u001b[0m op_ids, tok_ids, idx_ids \u001b[38;5;241m=\u001b[39m \u001b[38;5;28mtuple\u001b[39m(\u001b[38;5;28mmap\u001b[39m(\u001b[38;5;28;01mlambda\u001b[39;00m x: torch\u001b[38;5;241m.\u001b[39margmax(x, dim\u001b[38;5;241m=\u001b[39m\u001b[38;5;241m-\u001b[39m\u001b[38;5;241m1\u001b[39m), edit_tgts))\n\u001b[0;32m--> 195\u001b[0m B, N \u001b[38;5;241m=\u001b[39m op_ids\u001b[38;5;241m.\u001b[39mshape\n\u001b[1;32m    197\u001b[0m tgt \u001b[38;5;241m=\u001b[39m torch\u001b[38;5;241m.\u001b[39mzeros(B, N, \u001b[38;5;28mself\u001b[39m\u001b[38;5;241m.\u001b[39md_model, device\u001b[38;5;241m=\u001b[39m\u001b[38;5;28mself\u001b[39m\u001b[38;5;241m.\u001b[39mdevice)\n\u001b[1;32m    198\u001b[0m memory \u001b[38;5;241m=\u001b[39m \u001b[38;5;28mself\u001b[39m\u001b[38;5;241m.\u001b[39mpositional_embedding(memory, d\u001b[38;5;241m=\u001b[39m\u001b[38;5;241m-\u001b[39m\u001b[38;5;241m1\u001b[39m)\n",
      "\u001b[0;31mValueError\u001b[0m: too many values to unpack (expected 2)"
     ]
    }
   ],
   "source": [
    "# training loop\n",
    "\n",
    "import torch\n",
    "from evo import train_dagger, PointerStyleEvolver\n",
    "from data import unsupervised_loader, StratifiedInfiniteSampler\n",
    "from utils import BT\n",
    "from torch.optim import AdamW\n",
    "from run import sample\n",
    "\n",
    "model = PointerStyleEvolver(\n",
    "    d_model=64,\n",
    "    nhead=8,\n",
    "    max_len=10,\n",
    "    dim_feedforward=256,\n",
    "    dropout=0,\n",
    "    encoder_layers=3,\n",
    "    decoder_layers=3,\n",
    "    pointer_attn=True,\n",
    ")\n",
    "\n",
    "model.eval()\n",
    "\n",
    "optim = AdamW(model.parameters(), lr=3e-4)\n",
    "\n",
    "train_loader = unsupervised_loader(\n",
    "    path='data/toy/toy.jsonl',\n",
    "    max_len=10,\n",
    "    tokenizer=BT,\n",
    "    batch_size=2,\n",
    "    sampler=StratifiedInfiniteSampler\n",
    ")\n",
    "\n",
    "pf_params = {\n",
    "    'M': 3,\n",
    "    'threshold': 1,\n",
    "    'resample_at': 20 # need to fix this...\n",
    "}\n",
    "\n",
    "train_dagger(model, optim, train_loader, 100, 1e9, 1e9, pf_params, max_iters=10)"
   ]
  },
  {
   "cell_type": "code",
   "execution_count": 81,
   "metadata": {},
   "outputs": [
    {
     "ename": "TypeError",
     "evalue": "get_simalign_tgts() missing 2 required positional arguments: 's1' and 's2'",
     "output_type": "error",
     "traceback": [
      "\u001b[0;31m---------------------------------------------------------------------------\u001b[0m",
      "\u001b[0;31mTypeError\u001b[0m                                 Traceback (most recent call last)",
      "Cell \u001b[0;32mIn[81], line 10\u001b[0m\n\u001b[1;32m      1\u001b[0m \u001b[38;5;66;03m# from run import get_one_hot_align_ids\u001b[39;00m\n\u001b[1;32m      2\u001b[0m \n\u001b[1;32m      3\u001b[0m \u001b[38;5;66;03m# input_ids = torch.randint(1, 10, size=(1, 10))\u001b[39;00m\n\u001b[1;32m      4\u001b[0m \u001b[38;5;66;03m# output_ids = torch.randint(1, 10, size=(1, 10))\u001b[39;00m\n\u001b[1;32m      5\u001b[0m \n\u001b[1;32m      6\u001b[0m \u001b[38;5;66;03m# get_one_hot_align_ids(input_ids, output_ids)[0].shape\u001b[39;00m\n\u001b[1;32m      8\u001b[0m \u001b[38;5;28;01mfrom\u001b[39;00m \u001b[38;5;21;01mdata\u001b[39;00m \u001b[38;5;28;01mimport\u001b[39;00m get_simalign_tgts\n\u001b[0;32m---> 10\u001b[0m \u001b[43mget_simalign_tgts\u001b[49m\u001b[43m(\u001b[49m\u001b[43m)\u001b[49m\n",
      "\u001b[0;31mTypeError\u001b[0m: get_simalign_tgts() missing 2 required positional arguments: 's1' and 's2'"
     ]
    }
   ],
   "source": [
    "# from run import get_one_hot_align_ids\n",
    "\n",
    "# input_ids = torch.randint(1, 10, size=(1, 10))\n",
    "# output_ids = torch.randint(1, 10, size=(1, 10))\n",
    "\n",
    "# get_one_hot_align_ids(input_ids, output_ids)[0].shape\n",
    "\n",
    "from data import get_simalign_tgts\n",
    "\n",
    "get_simalign_tgts()"
   ]
  }
 ],
 "metadata": {
  "kernelspec": {
   "display_name": "evo",
   "language": "python",
   "name": "python3"
  },
  "language_info": {
   "codemirror_mode": {
    "name": "ipython",
    "version": 3
   },
   "file_extension": ".py",
   "mimetype": "text/x-python",
   "name": "python",
   "nbconvert_exporter": "python",
   "pygments_lexer": "ipython3",
   "version": "3.8.19"
  }
 },
 "nbformat": 4,
 "nbformat_minor": 2
}
