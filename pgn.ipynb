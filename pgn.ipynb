{
 "cells": [
  {
   "cell_type": "code",
   "execution_count": null,
   "metadata": {},
   "outputs": [],
   "source": [
    "%load_ext autoreload\n",
    "%autoreload 2"
   ]
  },
  {
   "cell_type": "code",
   "execution_count": null,
   "metadata": {},
   "outputs": [],
   "source": [
    "from pgn import *\n",
    "\n",
    "model = PointerGenerator()\n",
    "\n",
    "attn_weights = torch.randn(3, 5, 10)\n",
    "mem = torch.randn(3, 10, 512)\n",
    "input_tgt = torch.randn(3, 5, 512)\n",
    "output_tgt = torch.randn(3, 5, 512)\n",
    "\n",
    "x = model._compute_p_ins(attn_weights, mem, input_tgt, output_tgt)\n",
    "x.shape"
   ]
  },
  {
   "cell_type": "code",
   "execution_count": null,
   "metadata": {},
   "outputs": [],
   "source": [
    "import torch\n",
    "from transformer import TransformerDecoderLayer, TransformerDecoder\n",
    "\n",
    "decoder = TransformerDecoder(\n",
    "    decoder_layer=TransformerDecoderLayer(512, 8, 2048, 0.1, 1e-5),\n",
    "    num_layers=3\n",
    ")\n",
    "\n",
    "tgt = torch.randn(3, 10, 512)\n",
    "mem = torch.randn(3, 10, 512)\n",
    "src_pad_mask = torch.full((3, 10), True)\n",
    "src_pad_mask[:, :5] = False\n",
    "\n",
    "x, (*_, attn_weights) = decoder.forward(tgt, mem, memory_key_padding_mask=src_pad_mask)"
   ]
  },
  {
   "cell_type": "markdown",
   "metadata": {},
   "source": [
    "## num stability"
   ]
  },
  {
   "cell_type": "code",
   "execution_count": null,
   "metadata": {},
   "outputs": [],
   "source": [
    "from pgn import PointerGenerator\n",
    "model = PointerGenerator(N=4)"
   ]
  },
  {
   "cell_type": "code",
   "execution_count": null,
   "metadata": {},
   "outputs": [],
   "source": [
    "from transformers import BertTokenizer\n",
    "\n",
    "tokenizer = BertTokenizer.from_pretrained('bert-base-uncased')\n",
    "\n",
    "train_loader = model._train_loader('data/ud/ud_train_2.0.jsonl', tokenizer, batch_size=4)\n",
    "eval_loader = model._eval_loader('data/ud/ud_dev_2.0.jsonl', tokenizer, batch_size=4)"
   ]
  },
  {
   "cell_type": "code",
   "execution_count": null,
   "metadata": {},
   "outputs": [],
   "source": [
    "\n",
    "from torch.optim import AdamW\n",
    "optim = AdamW(model.parameters(), lr=3e-4)\n",
    "batch = next(iter(train_loader))\n",
    "\n",
    "model.on_train_epoch_start()\n",
    "\n",
    "import torch\n",
    "with torch.autograd.detect_anomaly():\n",
    "    for i, batch in enumerate(train_loader):\n",
    "        loss = model.training_step(batch, 0)\n",
    "        optim.zero_grad()\n",
    "        loss.backward()\n",
    "        optim.step()"
   ]
  },
  {
   "cell_type": "code",
   "execution_count": 29,
   "metadata": {},
   "outputs": [
    {
     "name": "stderr",
     "output_type": "stream",
     "text": [
      "GPU available: False, used: False\n",
      "TPU available: False, using: 0 TPU cores\n",
      "HPU available: False, using: 0 HPUs\n",
      "\n",
      "  | Name                 | Type                | Params | Mode \n",
      "---------------------------------------------------------------------\n",
      "0 | encoder              | TransformerEncoder  | 18.9 M | train\n",
      "1 | decoder              | TransformerDecoder  | 25.2 M | train\n",
      "2 | ins_fc               | Linear              | 1.5 K  | train\n",
      "3 | embedding            | Embedding           | 15.6 M | train\n",
      "4 | positional_embedding | SinusoidalEmbedding | 0      | train\n",
      "5 | tok_head             | Linear              | 15.7 M | train\n",
      "---------------------------------------------------------------------\n",
      "75.4 M    Trainable params\n",
      "0         Non-trainable params\n",
      "75.4 M    Total params\n",
      "301.700   Total estimated model params size (MB)\n"
     ]
    },
    {
     "name": "stdout",
     "output_type": "stream",
     "text": [
      "Epoch 0: |          | 6/? [00:01<00:00,  3.28it/s, v_num=13, train/loss=3.520, train/ppl=33.70] "
     ]
    }
   ],
   "source": [
    "import pytorch_lightning as pl\n",
    "\n",
    "trainer = pl.Trainer(\n",
    "    max_steps=20,\n",
    "    limit_val_batches=5,\n",
    "    val_check_interval=10,\n",
    "    check_val_every_n_epoch=None\n",
    ")\n",
    "\n",
    "trainer.fit(model, train_loader, eval_loader)"
   ]
  }
 ],
 "metadata": {
  "kernelspec": {
   "display_name": "evo",
   "language": "python",
   "name": "python3"
  },
  "language_info": {
   "codemirror_mode": {
    "name": "ipython",
    "version": 3
   },
   "file_extension": ".py",
   "mimetype": "text/x-python",
   "name": "python",
   "nbconvert_exporter": "python",
   "pygments_lexer": "ipython3",
   "version": "3.8.19"
  }
 },
 "nbformat": 4,
 "nbformat_minor": 2
}
