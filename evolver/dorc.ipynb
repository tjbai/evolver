{
 "cells": [
  {
   "cell_type": "code",
   "execution_count": 1,
   "metadata": {},
   "outputs": [],
   "source": [
    "%load_ext autoreload\n",
    "%autoreload 2"
   ]
  },
  {
   "cell_type": "code",
   "execution_count": 15,
   "metadata": {},
   "outputs": [],
   "source": [
    "from mt import Evolver, Teacher, SpacyTokenizer\n",
    "\n",
    "tokenizer = SpacyTokenizer()\n",
    "config = {\n",
    "    'd_model': 64, 'dim_feedforward': 256, 'encoder_layers': 2, 'decoder_layers': 2, 'nhead': 1, 'dropout': 0.1, 'layer_norm_eps': 1e-5, 'max_len': 32,\n",
    "    'pad_token_id': tokenizer.pad_token_id, 'eos_token_id': tokenizer.eos_token_id, 'bos_token_id': tokenizer.bos_token_id, 'vocab_size': tokenizer.vocab_size, 'name' : None}\n",
    "\n",
    "student = Evolver(**config)\n",
    "teacher = Teacher(**config)"
   ]
  },
  {
   "cell_type": "code",
   "execution_count": null,
   "metadata": {},
   "outputs": [],
   "source": [
    "from mt import TrajectoryDataset\n",
    "from torch.utils.data import DataLoader\n",
    "\n",
    "dataset = TrajectoryDataset(split='test', truncate=4, tokenizer=tokenizer, max_len=32)\n",
    "loader = DataLoader(dataset, batch_size=2, collate_fn=dataset.collate_fn)"
   ]
  },
  {
   "cell_type": "code",
   "execution_count": null,
   "metadata": {},
   "outputs": [],
   "source": [
    "from tqdm import tqdm\n",
    "from itertools import islice\n",
    "\n",
    "visited = []\n",
    "for batch in tqdm(islice(loader, 5), desc='rolling out student'):\n",
    "    for t in student.rollout(batch, T=3)[1:-1]:\n",
    "        visited.extend({'src_ids': batch['src_ids'][i], 'input_ids': t[i]} for i in range(2))"
   ]
  },
  {
   "cell_type": "code",
   "execution_count": 32,
   "metadata": {},
   "outputs": [],
   "source": [
    "visited_dataset = DataLoader(visited, batch_size=2, collate_fn=dataset.collate_fn_reduced)"
   ]
  },
  {
   "cell_type": "code",
   "execution_count": null,
   "metadata": {},
   "outputs": [],
   "source": [
    "new_dataset = []\n",
    "for batch in tqdm(visited_dataset, desc='generating teacher labels'):\n",
    "    tgt_ids = teacher._generate(batch)\n",
    "    new_dataset.extend(\n",
    "        {'src_ids': batch['src_ids'][i], 'input_ids': batch['input_ids'][i], 'tgt_ids': tgt_ids[i]}\n",
    "        for i in range(2))"
   ]
  }
 ],
 "metadata": {
  "kernelspec": {
   "display_name": "evo",
   "language": "python",
   "name": "python3"
  },
  "language_info": {
   "codemirror_mode": {
    "name": "ipython",
    "version": 3
   },
   "file_extension": ".py",
   "mimetype": "text/x-python",
   "name": "python",
   "nbconvert_exporter": "python",
   "pygments_lexer": "ipython3",
   "version": "3.8.19"
  }
 },
 "nbformat": 4,
 "nbformat_minor": 2
}
