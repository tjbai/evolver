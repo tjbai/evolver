{
 "cells": [
  {
   "cell_type": "code",
   "execution_count": null,
   "metadata": {},
   "outputs": [],
   "source": [
    "%load_ext autoreload\n",
    "%autoreload 2"
   ]
  },
  {
   "cell_type": "code",
   "execution_count": 53,
   "metadata": {},
   "outputs": [
    {
     "name": "stderr",
     "output_type": "stream",
     "text": [
      "/usr/local/anaconda3/envs/evo/lib/python3.8/site-packages/torch/nn/modules/transformer.py:286: UserWarning: enable_nested_tensor is True, but self.use_nested_tensor is False because encoder_layer.self_attn.num_heads is odd\n",
      "  warnings.warn(f\"enable_nested_tensor is True, but self.use_nested_tensor is False because {why_not_sparsity_fast_path}\")\n"
     ]
    }
   ],
   "source": [
    "import torch.nn.functional as F\n",
    "from de import DependencyEvolver\n",
    "from transformers import BertTokenizer\n",
    "\n",
    "tokenizer = BertTokenizer.from_pretrained('bert-base-uncased')\n",
    "\n",
    "model = DependencyEvolver(\n",
    "    d_model=16,\n",
    "    dim_feedforward=8,\n",
    "    nhead=1,\n",
    "    dropout=0,\n",
    "    N=5,\n",
    "    encoder_layers=1,\n",
    "    decoder_layers=1,\n",
    "    tok_v=tokenizer.vocab_size,\n",
    "    rel_v=2,\n",
    "    pos_v=3\n",
    ")"
   ]
  },
  {
   "cell_type": "code",
   "execution_count": 59,
   "metadata": {},
   "outputs": [],
   "source": [
    "import torch\n",
    "\n",
    "args = {\n",
    "    \"root\": (8823, 2),\n",
    "    \"op_traj\": torch.tensor([[[-1, 0, 1, 0, 2]]]),\n",
    "    \"cpy_traj\": torch.tensor([[[-1, -1, 1, -1, -1]]]),\n",
    "    \"leaf_traj\": torch.tensor([[[0, 0, 1, 0, 0]]], dtype=torch.bool),\n",
    "    \"par_traj\": torch.tensor([[[-1, 2, -1, 2, -1]]]),\n",
    "    \"rel_traj\": torch.tensor([[[-1, 0, -1, 1, -1]]]),\n",
    "    \"pos_traj\": torch.tensor([[[-1, 0, -1, 1, -1]]]),\n",
    "    \"tok_traj\": torch.tensor([[[-1, 2016, -1, 2833, -1]]])\n",
    "}"
   ]
  },
  {
   "cell_type": "code",
   "execution_count": 71,
   "metadata": {},
   "outputs": [
    {
     "ename": "TypeError",
     "evalue": "forward() missing 1 required positional argument: 'tgt_tok'",
     "output_type": "error",
     "traceback": [
      "\u001b[0;31m---------------------------------------------------------------------------\u001b[0m",
      "\u001b[0;31mTypeError\u001b[0m                                 Traceback (most recent call last)",
      "Cell \u001b[0;32mIn[71], line 1\u001b[0m\n\u001b[0;32m----> 1\u001b[0m \u001b[43mmodel\u001b[49m\u001b[38;5;241;43m.\u001b[39;49m\u001b[43mtraj_loss\u001b[49m\u001b[43m(\u001b[49m\u001b[38;5;241;43m*\u001b[39;49m\u001b[38;5;241;43m*\u001b[39;49m\u001b[43margs\u001b[49m\u001b[43m)\u001b[49m\n",
      "File \u001b[0;32m~/argo/projects/ddm/evolver/de.py:190\u001b[0m, in \u001b[0;36mDependencyEvolver.traj_loss\u001b[0;34m(self, root, op_traj, cpy_traj, leaf_traj, par_traj, rel_traj, pos_traj, tok_traj)\u001b[0m\n\u001b[1;32m    188\u001b[0m \u001b[38;5;28;01mfor\u001b[39;00m i \u001b[38;5;129;01min\u001b[39;00m \u001b[38;5;28mrange\u001b[39m(T):\n\u001b[1;32m    189\u001b[0m     tgts \u001b[38;5;241m=\u001b[39m [op_traj[i], cpy_traj[i], par_traj[i], rel_traj[i], pos_traj[i], tok_traj[i]]\n\u001b[0;32m--> 190\u001b[0m     ls \u001b[38;5;241m=\u001b[39m \u001b[38;5;28;43mself\u001b[39;49m\u001b[38;5;241;43m.\u001b[39;49m\u001b[43mforward\u001b[49m\u001b[43m(\u001b[49m\u001b[43minput_ids\u001b[49m\u001b[43m,\u001b[49m\u001b[43m \u001b[49m\u001b[43msrc\u001b[49m\u001b[43m,\u001b[49m\u001b[43m \u001b[49m\u001b[38;5;241;43m*\u001b[39;49m\u001b[43mtgts\u001b[49m\u001b[43m)\u001b[49m\n\u001b[1;32m    191\u001b[0m     \u001b[38;5;28;01mfor\u001b[39;00m i, (l, tgt) \u001b[38;5;129;01min\u001b[39;00m \u001b[38;5;28menumerate\u001b[39m(\u001b[38;5;28mzip\u001b[39m(ls, tgts)): tot[i] \u001b[38;5;241m+\u001b[39m\u001b[38;5;241m=\u001b[39m \u001b[38;5;28mself\u001b[39m\u001b[38;5;241m.\u001b[39mxent(l, tgt)\n\u001b[1;32m    193\u001b[0m \u001b[38;5;28;01mreturn\u001b[39;00m tot\n",
      "\u001b[0;31mTypeError\u001b[0m: forward() missing 1 required positional argument: 'tgt_tok'"
     ]
    }
   ],
   "source": [
    "model.traj_loss(**args)"
   ]
  },
  {
   "cell_type": "code",
   "execution_count": 61,
   "metadata": {},
   "outputs": [
    {
     "name": "stdout",
     "output_type": "stream",
     "text": [
      "torch.Size([1, 5])\n"
     ]
    }
   ],
   "source": [
    "print(args['op_traj'][0].shape)"
   ]
  },
  {
   "cell_type": "code",
   "execution_count": 69,
   "metadata": {},
   "outputs": [
    {
     "data": {
      "text/plain": [
       "tensor(4.4403, grad_fn=<NllLoss2DBackward0>)"
      ]
     },
     "execution_count": 69,
     "metadata": {},
     "output_type": "execute_result"
    }
   ],
   "source": []
  }
 ],
 "metadata": {
  "kernelspec": {
   "display_name": "evo",
   "language": "python",
   "name": "python3"
  },
  "language_info": {
   "codemirror_mode": {
    "name": "ipython",
    "version": 3
   },
   "file_extension": ".py",
   "mimetype": "text/x-python",
   "name": "python",
   "nbconvert_exporter": "python",
   "pygments_lexer": "ipython3",
   "version": "3.8.19"
  }
 },
 "nbformat": 4,
 "nbformat_minor": 2
}
