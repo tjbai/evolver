{
 "cells": [
  {
   "cell_type": "code",
   "execution_count": null,
   "metadata": {},
   "outputs": [],
   "source": [
    "%load_ext autoreload\n",
    "%autoreload 2\n",
    "\n",
    "import sys\n",
    "if '..' not in sys.path:\n",
    "    sys.path.append('..')"
   ]
  },
  {
   "cell_type": "code",
   "execution_count": null,
   "metadata": {},
   "outputs": [],
   "source": [
    "import conllu\n",
    "import numpy as np\n",
    "import random\n",
    "from nltk.tokenize.treebank import TreebankWordDetokenizer\n",
    "\n",
    "detok = TreebankWordDetokenizer()\n",
    "\n",
    "hierarchy = {\n",
    "    'NOUN': ['NOUN', 'PROPN'],\n",
    "    'VERB': ['VERB', 'AUX'],\n",
    "    'MOD': ['ADJ', 'ADV'],\n",
    "    'FUNC': ['DET', 'PRON', 'ADP', 'CCONJ', 'SCONJ', 'PART'],\n",
    "    'NUM': ['NUM'],\n",
    "    'OTHER': ['INTJ', 'SYM', 'PUNCT', 'X', '_']\n",
    "}\n",
    "\n",
    "to_parent = {}\n",
    "for k, vs in hierarchy.items():\n",
    "    to_parent[k] = k\n",
    "    for v in vs:\n",
    "        to_parent[v] = k\n",
    "\n",
    "def minimize(path):\n",
    "    with open(path, 'r') as f:\n",
    "        sentences = conllu.parse(f.read())\n",
    "       \n",
    "    res = [] \n",
    "    for sent in sentences:\n",
    "        cur = [(tok['form'], to_parent[tok['upostag']]) for tok in sent]\n",
    "        res.append(cur)\n",
    "        \n",
    "    return res\n",
    "\n",
    "def deterministic_noise(sent):\n",
    "    traj = [detok.detokenize([s[0] for s in sent])]\n",
    "    \n",
    "    for drop in ['OTHER', 'MOD', 'FUNC', 'NUM', 'VERB', 'NOUN']:\n",
    "        new_sent = []\n",
    "        for tok, pos in sent:\n",
    "            if pos != drop: new_sent.append((tok, pos))\n",
    "        sent = new_sent\n",
    "        new_seq = detok.detokenize(s[0] for s in sent)\n",
    "        if new_seq != traj[-1]: traj.append(new_seq)\n",
    "        \n",
    "    return traj[::-1], 0\n",
    "\n",
    "def sample_pos_noise(sent, traj_length=6):\n",
    "    importance = {\n",
    "        'OTHER': 1.5, 'FUNC': 2, 'NUM': 4,\n",
    "        'MOD': 5, 'VERB': 8, 'NOUN': 9\n",
    "    }\n",
    "   \n",
    "    log_prob = 0 \n",
    "    traj = [detok.detokenize([s[0] for s in sent])]\n",
    "   \n",
    "    for i in range(traj_length):\n",
    "        if not sent: break\n",
    "        \n",
    "        weights = [1 / importance[pos] for _, pos in sent]\n",
    "        tot = sum(weights)\n",
    "        weights = [w / tot for w in weights]\n",
    "        \n",
    "        N = max(1, len(sent) // (traj_length - i))\n",
    "        to_drop = random.choices(range(len(sent)), k=min(N, len(sent)), weights=weights)\n",
    "        log_prob += sum(np.log(weights[i]) for i in to_drop)\n",
    "        \n",
    "        sent  = [tok for j, tok in enumerate(sent) if j not in to_drop]\n",
    "        traj.append(detok.detokenize(s[0] for s in sent))\n",
    "        \n",
    "    if traj[-1] != '': traj.append('')\n",
    "    return traj[::-1], log_prob"
   ]
  },
  {
   "cell_type": "code",
   "execution_count": null,
   "metadata": {},
   "outputs": [],
   "source": [
    "import json\n",
    "\n",
    "def create_corpus(output, input, func):\n",
    "    m_sentences = minimize(input)\n",
    "    with open(output, 'w') as f:\n",
    "        for m_sent in m_sentences:\n",
    "            output = func(m_sent)\n",
    "            json.dump(output, f)\n",
    "            f.write('\\n')"
   ]
  },
  {
   "cell_type": "code",
   "execution_count": null,
   "metadata": {},
   "outputs": [],
   "source": [
    "create_corpus('../data/ud/ud_train_2.0.0.jsonl', '../data/ud/en_gum-ud-train.conllu', sample_pos_noise)\n",
    "create_corpus('../data/ud/ud_dev_2.0.0.jsonl', '../data/ud/en_gum-ud-dev.conllu', sample_pos_noise)\n",
    "create_corpus('../data/ud/ud_train_2.1.0.jsonl', '../data/ud/en_gum-ud-train.conllu', deterministic_noise)\n",
    "create_corpus('../data/ud/ud_dev_2.1.0.jsonl', '../data/ud/en_gum-ud-dev.conllu', deterministic_noise)"
   ]
  },
  {
   "cell_type": "code",
   "execution_count": null,
   "metadata": {},
   "outputs": [],
   "source": [
    "!python ../dep.py ../data/ud/en_ewt-ud-train.conllu ../data/ud_train.jsonl --redundant=1 --weight=0.1"
   ]
  },
  {
   "cell_type": "code",
   "execution_count": null,
   "metadata": {},
   "outputs": [],
   "source": [
    "!python ../dep.py ../data/ud/en_ewt-ud-dev.conllu ../data/ud_dev.jsonl --redundant=3 --weight=0.1"
   ]
  },
  {
   "cell_type": "code",
   "execution_count": null,
   "metadata": {},
   "outputs": [],
   "source": [
    "from data import TrajectoryDataset\n",
    "from transformers import BertTokenizer\n",
    "\n",
    "tokenizer = BertTokenizer.from_pretrained('bert-base-uncased')\n",
    "\n",
    "train_dataset = TrajectoryDataset.from_disk(\n",
    "    path='../data/ud/ud_train_2.0.0.jsonl',\n",
    "    max_len=64,\n",
    "    tokenizer=tokenizer\n",
    ")\n",
    "\n",
    "# eval_dataset = TrajectoryDataset.from_disk(\n",
    "#     path='../data/ud/ud_dev.jsonl',\n",
    "#     max_len=64,\n",
    "#     tokenizer=tokenizer,\n",
    "#     limit=100\n",
    "# )"
   ]
  },
  {
   "cell_type": "code",
   "execution_count": null,
   "metadata": {},
   "outputs": [],
   "source": [
    "# what is the average number of non-pad tokens in each batch?\n",
    "\n",
    "import torch\n",
    "\n",
    "for thing, _ in train_loader:\n",
    "    tot = sum(torch.sum(traj != 0) for traj in thing)\n",
    "    print(tot)"
   ]
  },
  {
   "cell_type": "code",
   "execution_count": null,
   "metadata": {},
   "outputs": [],
   "source": [
    "from torch.utils.data import DataLoader\n",
    "from data import StratifiedInfiniteSampler\n",
    "\n",
    "train_loader = DataLoader(\n",
    "    train_dataset,\n",
    "    batch_size=32,\n",
    "    sampler=StratifiedInfiniteSampler(train_dataset, 32),\n",
    "    collate_fn=lambda x: zip(*x)\n",
    ")\n",
    "\n",
    "# eval_loader = DataLoader(\n",
    "#     eval_dataset,\n",
    "#     batch_size=1,\n",
    "#     shuffle=True\n",
    "# )"
   ]
  },
  {
   "cell_type": "code",
   "execution_count": null,
   "metadata": {},
   "outputs": [],
   "source": [
    "from model import Evolver\n",
    "from torch.optim import AdamW\n",
    "\n",
    "evolver = Evolver(\n",
    "    d_model=512,\n",
    "    nhead=8,\n",
    "    max_len=64,\n",
    "    encoder_layers=6,\n",
    "    decoder_layers=6,\n",
    "    device='cpu'\n",
    ")\n",
    "\n",
    "optim = AdamW(evolver.parameters(), lr=3e-4)"
   ]
  },
  {
   "cell_type": "code",
   "execution_count": null,
   "metadata": {},
   "outputs": [],
   "source": [
    "from train import train_evolver\n",
    "\n",
    "train_evolver(\n",
    "    evolver, optim, None,\n",
    "    train_loader, eval_loader,\n",
    "    train_steps=1,\n",
    "    grad_accum_steps=1,\n",
    "    checkpoint_at=2,\n",
    "    eval_at=1,\n",
    "    num_particles=5,\n",
    "    threshold=2,\n",
    "    temperature=1.0,\n",
    "    device='cpu',\n",
    "    prefix='test-local'\n",
    ")"
   ]
  },
  {
   "cell_type": "code",
   "execution_count": null,
   "metadata": {},
   "outputs": [],
   "source": [
    "from train import evaluate_evolver\n",
    "\n",
    "evaluate_evolver(evolver, eval_loader, 'cpu')"
   ]
  },
  {
   "cell_type": "code",
   "execution_count": null,
   "metadata": {},
   "outputs": [],
   "source": [
    "!python ../train.py \\\n",
    "    --train ../data/ud/ud.jsonl \\\n",
    "    --eval ../data/ud/en_ewt-ud-dev.conllu \\\n",
    "    --config ../configs/ud.json \\\n",
    "    --prefix ud-1.0.0 \\\n",
    "    --device cpu"
   ]
  },
  {
   "cell_type": "code",
   "execution_count": null,
   "metadata": {},
   "outputs": [],
   "source": [
    "from data import Seq2SeqDataset\n",
    "from transformers import BertTokenizer\n",
    "\n",
    "dataset = Seq2SeqDataset.from_trajectories(\n",
    "    '../data/ud/ud_train_2.0.0.jsonl',\n",
    "    denoising=True,\n",
    "    max_len=64,\n",
    "    tokenizer=tokenizer\n",
    ")"
   ]
  },
  {
   "cell_type": "code",
   "execution_count": null,
   "metadata": {},
   "outputs": [],
   "source": [
    "from torch.utils.data import DataLoader\n",
    "from data import StratifiedInfiniteSampler\n",
    "\n",
    "train_loader = DataLoader(\n",
    "    dataset,\n",
    "    batch_size=128,\n",
    "    sampler=StratifiedInfiniteSampler(dataset, 128),\n",
    ")"
   ]
  },
  {
   "cell_type": "code",
   "execution_count": null,
   "metadata": {},
   "outputs": [],
   "source": [
    "for _, output in train_loader:\n",
    "    print(torch.sum(output[0] != 0))"
   ]
  },
  {
   "cell_type": "markdown",
   "metadata": {},
   "source": [
    "## test streaming dataset"
   ]
  },
  {
   "cell_type": "code",
   "execution_count": null,
   "metadata": {},
   "outputs": [],
   "source": [
    "from data import SupervisedTrajectoryDataset\n",
    "from transformers import BertTokenizer\n",
    "\n",
    "dataset = SupervisedTrajectoryDataset.from_disk(\n",
    "    '../data/ud/ud_dev.jsonl',\n",
    "    max_len=64,\n",
    "    tokenizer=BertTokenizer.from_pretrained('bert-base-uncased')\n",
    ")"
   ]
  },
  {
   "cell_type": "code",
   "execution_count": null,
   "metadata": {},
   "outputs": [],
   "source": [
    "from data import SupervisedTrajectoryDataset\n",
    "from transformers import BertTokenizer\n",
    "\n",
    "train_dataset = SupervisedTrajectoryDataset.from_disk(\n",
    "    path='../data/toy/toy.jsonl',\n",
    "    max_len=10,\n",
    "    tokenizer=BertTokenizer.from_pretrained('bert-base-uncased')\n",
    ")"
   ]
  },
  {
   "cell_type": "code",
   "execution_count": null,
   "metadata": {},
   "outputs": [],
   "source": [
    "from torch.utils.data import DataLoader\n",
    "from data import StratifiedInfiniteSampler, collate_supervised\n",
    "\n",
    "loader = DataLoader(\n",
    "    train_dataset,\n",
    "    batch_size=2,\n",
    "    sampler=StratifiedInfiniteSampler(train_dataset, 2),\n",
    "    num_workers=2,\n",
    "    prefetch_factor=2\n",
    ")"
   ]
  }
 ],
 "metadata": {
  "kernelspec": {
   "display_name": "evo",
   "language": "python",
   "name": "python3"
  },
  "language_info": {
   "codemirror_mode": {
    "name": "ipython",
    "version": 3
   },
   "file_extension": ".py",
   "mimetype": "text/x-python",
   "name": "python",
   "nbconvert_exporter": "python",
   "pygments_lexer": "ipython3",
   "version": "3.8.19"
  }
 },
 "nbformat": 4,
 "nbformat_minor": 2
}
