{
 "cells": [
  {
   "cell_type": "code",
   "execution_count": 1,
   "metadata": {},
   "outputs": [],
   "source": [
    "%load_ext autoreload\n",
    "%autoreload 2"
   ]
  },
  {
   "cell_type": "code",
   "execution_count": null,
   "metadata": {},
   "outputs": [],
   "source": [
    "from csg import CSGDataset, CSG\n",
    "from torch.utils.data import DataLoader\n",
    "\n",
    "dataset = CSGDataset()\n",
    "loader = DataLoader(dataset, batch_size=3, collate_fn=dataset.collate_fn)"
   ]
  },
  {
   "cell_type": "code",
   "execution_count": null,
   "metadata": {},
   "outputs": [],
   "source": [
    "# batch = next(iter(loader))\n",
    "\n",
    "from csg import Evolver, DecoderOnlyTransformer, CSG\n",
    "\n",
    "csg = CSG()\n",
    "\n",
    "# model = DecoderOnlyTransformer(\n",
    "#     d_model=256,\n",
    "#     dim_feedforward=256*4,\n",
    "#     nhead=16,\n",
    "#     dropout=0.1,\n",
    "#     layer_norm_eps=1e-5,\n",
    "#     decoder_layers=8,\n",
    "#     vocab_size=csg.vocab_size,\n",
    "#     max_len=256\n",
    "# )\n",
    "\n",
    "model = Evolver(\n",
    "    d_model=256,\n",
    "    dim_feedforward=256*4,\n",
    "    nhead=16,\n",
    "    dropout=0.1,\n",
    "    layer_norm_eps=1e-5,\n",
    "    encoder_layers=6,\n",
    "    decoder_layers=2,\n",
    "    vocab_size=csg.vocab_size,\n",
    "    max_len=256,\n",
    "    pad_token_id=csg.tok_to_id['PAD'],\n",
    "    name=None\n",
    ")"
   ]
  },
  {
   "cell_type": "code",
   "execution_count": null,
   "metadata": {},
   "outputs": [],
   "source": [
    "!python csg.py --config=configs/csg/ar.json --local"
   ]
  }
 ],
 "metadata": {
  "kernelspec": {
   "display_name": "evo",
   "language": "python",
   "name": "python3"
  },
  "language_info": {
   "codemirror_mode": {
    "name": "ipython",
    "version": 3
   },
   "file_extension": ".py",
   "mimetype": "text/x-python",
   "name": "python",
   "nbconvert_exporter": "python",
   "pygments_lexer": "ipython3",
   "version": "3.8.19"
  }
 },
 "nbformat": 4,
 "nbformat_minor": 2
}
