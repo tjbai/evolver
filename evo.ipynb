{
 "cells": [
  {
   "cell_type": "code",
   "execution_count": null,
   "metadata": {},
   "outputs": [],
   "source": [
    "%load_ext autoreload\n",
    "%autoreload 2"
   ]
  },
  {
   "cell_type": "code",
   "execution_count": null,
   "metadata": {},
   "outputs": [],
   "source": [
    "from evo import *\n",
    "\n",
    "params = {\n",
    "    'd_model': 512,\n",
    "    'nhead': 8,\n",
    "    'dim_feedforward': 2048,\n",
    "    'dropout': 0.1,\n",
    "    'encoder_layers': 3,\n",
    "    'decoder_layers': 3,\n",
    "    'max_len': 64\n",
    "}\n",
    "\n",
    "evolver = Evolver(**params)\n",
    "ps_evolver = PointerStyleEvolver(**params)"
   ]
  },
  {
   "cell_type": "code",
   "execution_count": null,
   "metadata": {},
   "outputs": [],
   "source": [
    "from data import *\n",
    "from transformers import BertTokenizer\n",
    "\n",
    "tokenizer = BertTokenizer.from_pretrained('bert-base-uncased')\n",
    "\n",
    "train_loader = supervised_loader(\n",
    "    path='data/toy/toy.jsonl',\n",
    "    max_len=10,\n",
    "    tokenizer=tokenizer,\n",
    "    batch_size=4,\n",
    "    cache_prefix=None,\n",
    "    all_tokens=True,\n",
    "    limit=100,\n",
    "    sampler=StratifiedInfiniteSampler\n",
    ")\n",
    "\n",
    "eval_loader = unsupervised_loader(\n",
    "    path='data/toy/toy.jsonl',\n",
    "    max_len=10,\n",
    "    tokenizer=tokenizer,\n",
    "    batch_size=4,\n",
    "    sampler=StratifiedInfiniteSampler\n",
    ")"
   ]
  },
  {
   "cell_type": "code",
   "execution_count": null,
   "metadata": {},
   "outputs": [],
   "source": [
    "from torch.optim import AdamW\n",
    "\n",
    "kwargs = {\n",
    "    'train_loader': train_loader,\n",
    "    'eval_loader': eval_loader,\n",
    "    'train_steps': 1,\n",
    "    'eval_steps': 2,\n",
    "    'grad_accum_steps': 1,\n",
    "    'clip_gradients': False,\n",
    "    'checkpoint_at': 20,\n",
    "    'eval_at': 1\n",
    "}\n",
    "\n",
    "print('STARTING REGULAR EVOLVER')\n",
    "train_evolver(evolver, AdamW(evolver.parameters(), lr=3e-4), None, **kwargs)\n",
    "\n",
    "print('STARTING PS EVOLVER')\n",
    "train_evolver(ps_evolver, AdamW(ps_evolver.parameters(), lr=3e-4), None, **kwargs)"
   ]
  },
  {
   "cell_type": "markdown",
   "metadata": {},
   "source": [
    "## multihead pointer"
   ]
  },
  {
   "cell_type": "code",
   "execution_count": null,
   "metadata": {},
   "outputs": [],
   "source": [
    "import torch\n",
    "from trans import MultiheadPointer\n",
    "\n",
    "pointer = MultiheadPointer(512, 8)\n",
    "\n",
    "mem = torch.randn(3, 10, 512)\n",
    "tgt = torch.randn(3, 5, 512)\n",
    "src_pad_mask = torch.full((3, 10), True)\n",
    "src_pad_mask[:, :7] = False\n",
    "\n",
    "idx_weights = pointer(tgt, mem, key_padding_mask=src_pad_mask)\n",
    "idx_weights"
   ]
  },
  {
   "cell_type": "markdown",
   "metadata": {},
   "source": [
    "## regressions\n",
    "\n",
    "```\n",
    "python evo.py --config=configs/toy/sup-toy.json\n",
    "python evo.py --config=configs/toy/sup-toy-epoch.json\n",
    "python evo.py --config=configs/toy/ps-sup-toy.json\n",
    "python evo.py --config=configs/toy/noshare-sup-toy-e1d1.json\n",
    "```"
   ]
  },
  {
   "cell_type": "code",
   "execution_count": null,
   "metadata": {},
   "outputs": [],
   "source": [
    "!python evo.py --config=configs/toy/sup-toy.json --local"
   ]
  },
  {
   "cell_type": "code",
   "execution_count": null,
   "metadata": {},
   "outputs": [],
   "source": [
    "!python evo.py --config=configs/toy/sup-toy-epoch.json --local"
   ]
  },
  {
   "cell_type": "code",
   "execution_count": null,
   "metadata": {},
   "outputs": [],
   "source": [
    "!python evo.py --config=configs/toy/ps-sup-toy.json --local"
   ]
  }
 ],
 "metadata": {
  "kernelspec": {
   "display_name": "evo",
   "language": "python",
   "name": "python3"
  },
  "language_info": {
   "codemirror_mode": {
    "name": "ipython",
    "version": 3
   },
   "file_extension": ".py",
   "mimetype": "text/x-python",
   "name": "python",
   "nbconvert_exporter": "python",
   "pygments_lexer": "ipython3",
   "version": "3.8.19"
  }
 },
 "nbformat": 4,
 "nbformat_minor": 2
}
