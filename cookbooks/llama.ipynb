{
 "cells": [
  {
   "cell_type": "code",
   "execution_count": 2,
   "metadata": {},
   "outputs": [],
   "source": [
    "%load_ext autoreload\n",
    "%autoreload 2"
   ]
  },
  {
   "cell_type": "code",
   "execution_count": 3,
   "metadata": {},
   "outputs": [],
   "source": [
    "import sys\n",
    "if '..' not in sys.path:\n",
    "    sys.path.append('..')"
   ]
  },
  {
   "cell_type": "code",
   "execution_count": 43,
   "metadata": {},
   "outputs": [],
   "source": [
    "from llama import create_dataset\n",
    "\n",
    "path = '../../train/noise/wiki_auto_gpt_3.5_ft.jsonl'\n",
    "\n",
    "system = '''\n",
    "You are an AI assistant specialized in gradually simplifying text sequences, including single sentences, multiple sentences, and paragraphs. When given a text input, you will produce a series of simplified versions, each slightly simpler than the last, until you reach a minimal form or an empty string. Follow these guidelines:\n",
    "\n",
    "1. Start with the original text as the first item in your list.\n",
    "2. Each subsequent item should be a simpler version of the previous one.\n",
    "3. Maintain the core meaning and key information of the text as much as possible in each step.\n",
    "4. Use various simplification techniques, including but not limited to:\n",
    "-    Removing modifiers and unnecessary details\n",
    "-    Simplifying vocabulary and sentence structure\n",
    "-    Breaking complex sentences into simpler ones\n",
    "-    Summarizing multiple sentences into a single, concise sentence\n",
    "-    Removing less critical information while retaining the main points\n",
    "-    Restructuring paragraphs to focus on key ideas\n",
    "\n",
    "For longer texts, focus on reducing both complexity and length in each step.\n",
    "Continue simplifying until you reach a minimal form (e.g., a subject-verb-object sentence or even a single word) or an empty string.\n",
    "Aim for 5-8 steps in total, depending on the length and complexity of the original text. Longer or more complex inputs may require more steps.\n",
    "'''\n",
    "\n",
    "a = create_dataset('../../train/noise/wiki_auto_gpt_3.5_ft.jsonl', ds=2, system=system)\n",
    "b = create_dataset('../../train/noise/wiki_auto_gpt_4_one_shot.jsonl', ds=2, system=system)"
   ]
  },
  {
   "cell_type": "code",
   "execution_count": 56,
   "metadata": {},
   "outputs": [],
   "source": [
    "combined = a + b"
   ]
  },
  {
   "cell_type": "code",
   "execution_count": 57,
   "metadata": {},
   "outputs": [],
   "source": [
    "import json\n",
    "\n",
    "with open('../data/noise_ft.jsonl', 'w') as f:\n",
    "    for example in combined:\n",
    "        json.dump({'messages': example}, f)\n",
    "        f.write('\\n')"
   ]
  }
 ],
 "metadata": {
  "kernelspec": {
   "display_name": "ddm",
   "language": "python",
   "name": "python3"
  },
  "language_info": {
   "codemirror_mode": {
    "name": "ipython",
    "version": 3
   },
   "file_extension": ".py",
   "mimetype": "text/x-python",
   "name": "python",
   "nbconvert_exporter": "python",
   "pygments_lexer": "ipython3",
   "version": "3.8.12"
  }
 },
 "nbformat": 4,
 "nbformat_minor": 2
}
