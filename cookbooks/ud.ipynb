{
 "cells": [
  {
   "cell_type": "code",
   "execution_count": 5,
   "metadata": {},
   "outputs": [],
   "source": [
    "%load_ext autoreload\n",
    "%autoreload 2\n",
    "\n",
    "import sys\n",
    "if '..' not in sys.path:\n",
    "    sys.path.append('..')"
   ]
  },
  {
   "cell_type": "code",
   "execution_count": 61,
   "metadata": {},
   "outputs": [],
   "source": [
    "import conllu\n",
    "\n",
    "with open('../data/ud/en_ewt-ud-train.conllu', 'r') as f:\n",
    "    sentences = conllu.parse(f.read())"
   ]
  },
  {
   "cell_type": "code",
   "execution_count": 2,
   "metadata": {},
   "outputs": [
    {
     "name": "stdout",
     "output_type": "stream",
     "text": [
      "100%|███████████████████████████████████| 12544/12544 [00:04<00:00, 2549.80it/s]\n",
      "generated 12544 noising trajectories\n",
      "avg length 5.66047512755102\n"
     ]
    }
   ],
   "source": [
    "!python ../dep.py ../data/en_ewt-ud-train.conllu ../data/ud.jsonl --weight=0.1"
   ]
  },
  {
   "cell_type": "code",
   "execution_count": 13,
   "metadata": {},
   "outputs": [
    {
     "data": {
      "text/plain": [
       "(array([895., 532., 295., 155.,  66.,  35.,  11.,   6.,   4.,   2.]),\n",
       " array([ 3. , 12.3, 21.6, 30.9, 40.2, 49.5, 58.8, 68.1, 77.4, 86.7, 96. ]),\n",
       " <BarContainer object of 10 artists>)"
      ]
     },
     "execution_count": 13,
     "metadata": {},
     "output_type": "execute_result"
    },
    {
     "data": {
      "image/png": "[encoded data removed]",
      "text/plain": [
       "<Figure size 640x480 with 1 Axes>"
      ]
     },
     "metadata": {},
     "output_type": "display_data"
    }
   ],
   "source": [
    "import matplotlib.pyplot as plt\n",
    "\n",
    "plt.hist([len(id) for id in ids['input_ids']])"
   ]
  },
  {
   "cell_type": "code",
   "execution_count": 25,
   "metadata": {},
   "outputs": [
    {
     "name": "stderr",
     "output_type": "stream",
     "text": [
      "Tokenizing inputs: 100%|██████████| 12544/12544 [00:12<00:00, 970.66it/s] \n"
     ]
    }
   ],
   "source": [
    "from model import Evolver\n",
    "from data import TrainLoader\n",
    "from train import train_evolver\n",
    "from torch.optim import AdamW\n",
    "from transformers import BertTokenizer\n",
    "\n",
    "evolver = Evolver(\n",
    "    d_model=512,\n",
    "    nhead=8,\n",
    "    max_len=64,\n",
    "    encoder_layers=6,\n",
    "    decoder_layers=6,\n",
    "    device='cpu'\n",
    ")\n",
    "\n",
    "optim = AdamW(evolver.parameters(), lr=3e-4)"
   ]
  },
  {
   "cell_type": "code",
   "execution_count": 10,
   "metadata": {},
   "outputs": [
    {
     "name": "stderr",
     "output_type": "stream",
     "text": [
      "Noising observations: 100%|██████████| 2001/2001 [00:00<00:00, 3089.15it/s]\n"
     ]
    }
   ],
   "source": [
    "from data import EvalDataset\n",
    "from transformers import BertTokenizer\n",
    "\n",
    "eval_dataset = EvalDataset.from_disk(\n",
    "    path='../data/ud/en_ewt-ud-dev.conllu',\n",
    "    num_samples=1,\n",
    "    max_len=64,\n",
    "    tokenizer=BertTokenizer.from_pretrained('bert-base-uncased'),\n",
    "    limit=100\n",
    ")"
   ]
  },
  {
   "cell_type": "code",
   "execution_count": 22,
   "metadata": {},
   "outputs": [
    {
     "name": "stderr",
     "output_type": "stream",
     "text": [
      "Tokenizing inputs: 100%|██████████| 12544/12544 [00:15<00:00, 786.87it/s]\n"
     ]
    }
   ],
   "source": [
    "from data import TrainDataset\n",
    "from transformers import BertTokenizer\n",
    "\n",
    "train_dataset = TrainDataset.from_disk(\n",
    "    path='../data/ud/ud.jsonl',\n",
    "    max_len=64,\n",
    "    tokenizer=BertTokenizer.from_pretrained('bert-base-uncased')\n",
    ")"
   ]
  },
  {
   "cell_type": "code",
   "execution_count": 20,
   "metadata": {},
   "outputs": [
    {
     "name": "stdout",
     "output_type": "stream",
     "text": [
      "Tokenizing inputs: 100%|█████████████████| 12544/12544 [00:14<00:00, 861.25it/s]\n",
      "Noising observations: 100%|███████████████| 2001/2001 [00:00<00:00, 3521.04it/s]\n",
      "INFO:__main__:starting epoch: 1\n",
      "sampling batch:   2%|▋                          | 3/128 [00:16<11:46,  5.65s/it]^C\n",
      "sampling batch:   2%|▋                          | 3/128 [00:17<12:14,  5.88s/it]\n",
      "Traceback (most recent call last):\n",
      "  File \"../train.py\", line 247, in <module>\n",
      "    main()\n",
      "  File \"../train.py\", line 233, in main\n",
      "    train_evolver(\n",
      "  File \"../train.py\", line 92, in train_evolver\n",
      "    sample_batch(evolver, batch_ids, num_particles, threshold, temperature, device)\n",
      "  File \"/Users/bai/argo/projects/ddm/evolver/run.py\", line 40, in sample_batch\n",
      "    cur_tgts, _ = sample_trajectory(\n",
      "  File \"/Users/bai/argo/projects/ddm/evolver/run.py\", line 71, in sample_trajectory\n",
      "    edit_tgts, src, log_prob = particle_filter(\n",
      "  File \"/Users/bai/argo/projects/ddm/evolver/run.py\", line 109, in particle_filter\n",
      "    edit_logits, tgt, memory, cache = evolver.forward(\n",
      "  File \"/Users/bai/argo/projects/ddm/evolver/model.py\", line 267, in forward\n",
      "    memory = self.encoder(src, src_key_padding_mask=src_pad_mask)\n",
      "  File \"/usr/local/anaconda3/envs/evo/lib/python3.8/site-packages/torch/nn/modules/module.py\", line 1511, in _wrapped_call_impl\n",
      "    return self._call_impl(*args, **kwargs)\n",
      "  File \"/usr/local/anaconda3/envs/evo/lib/python3.8/site-packages/torch/nn/modules/module.py\", line 1520, in _call_impl\n",
      "    return forward_call(*args, **kwargs)\n",
      "  File \"/usr/local/anaconda3/envs/evo/lib/python3.8/site-packages/torch/nn/modules/transformer.py\", line 391, in forward\n",
      "    output = mod(output, src_mask=mask, is_causal=is_causal, src_key_padding_mask=src_key_padding_mask_for_layers)\n",
      "  File \"/usr/local/anaconda3/envs/evo/lib/python3.8/site-packages/torch/nn/modules/module.py\", line 1511, in _wrapped_call_impl\n",
      "    return self._call_impl(*args, **kwargs)\n",
      "  File \"/usr/local/anaconda3/envs/evo/lib/python3.8/site-packages/torch/nn/modules/module.py\", line 1520, in _call_impl\n",
      "    return forward_call(*args, **kwargs)\n",
      "  File \"/usr/local/anaconda3/envs/evo/lib/python3.8/site-packages/torch/nn/modules/transformer.py\", line 714, in forward\n",
      "    x = self.norm1(x + self._sa_block(x, src_mask, src_key_padding_mask, is_causal=is_causal))\n",
      "  File \"/usr/local/anaconda3/envs/evo/lib/python3.8/site-packages/torch/nn/modules/transformer.py\", line 722, in _sa_block\n",
      "    x = self.self_attn(x, x, x,\n",
      "  File \"/usr/local/anaconda3/envs/evo/lib/python3.8/site-packages/torch/nn/modules/module.py\", line 1511, in _wrapped_call_impl\n",
      "    return self._call_impl(*args, **kwargs)\n",
      "  File \"/usr/local/anaconda3/envs/evo/lib/python3.8/site-packages/torch/nn/modules/module.py\", line 1520, in _call_impl\n",
      "    return forward_call(*args, **kwargs)\n",
      "  File \"/usr/local/anaconda3/envs/evo/lib/python3.8/site-packages/torch/nn/modules/activation.py\", line 1241, in forward\n",
      "    attn_output, attn_output_weights = F.multi_head_attention_forward(\n",
      "  File \"/usr/local/anaconda3/envs/evo/lib/python3.8/site-packages/torch/nn/functional.py\", line 5336, in multi_head_attention_forward\n",
      "    q, k, v = _in_projection_packed(query, key, value, in_proj_weight, in_proj_bias)\n",
      "  File \"/usr/local/anaconda3/envs/evo/lib/python3.8/site-packages/torch/nn/functional.py\", line 4857, in _in_projection_packed\n",
      "    proj = linear(q, w, b)\n",
      "KeyboardInterrupt\n"
     ]
    }
   ],
   "source": [
    "!python ../train.py \\\n",
    "    --train ../data/ud/ud.jsonl \\\n",
    "    --eval ../data/ud/en_ewt-ud-dev.conllu \\\n",
    "    --config ../configs/ud.json \\\n",
    "    --prefix ud-1.0.0 \\\n",
    "    --device cpu"
   ]
  }
 ],
 "metadata": {
  "kernelspec": {
   "display_name": "evo",
   "language": "python",
   "name": "python3"
  },
  "language_info": {
   "codemirror_mode": {
    "name": "ipython",
    "version": 3
   },
   "file_extension": ".py",
   "mimetype": "text/x-python",
   "name": "python",
   "nbconvert_exporter": "python",
   "pygments_lexer": "ipython3",
   "version": "3.8.12"
  }
 },
 "nbformat": 4,
 "nbformat_minor": 2
}
