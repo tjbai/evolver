{
 "cells": [
  {
   "cell_type": "code",
   "execution_count": null,
   "metadata": {},
   "outputs": [],
   "source": [
    "%load_ext autoreload\n",
    "%autoreload 2"
   ]
  },
  {
   "cell_type": "code",
   "execution_count": null,
   "metadata": {},
   "outputs": [],
   "source": [
    "from pgn import *\n",
    "\n",
    "model = PointerGenerator()\n",
    "\n",
    "attn_weights = torch.randn(3, 5, 10)\n",
    "mem = torch.randn(3, 10, 512)\n",
    "input_tgt = torch.randn(3, 5, 512)\n",
    "output_tgt = torch.randn(3, 5, 512)\n",
    "\n",
    "x = model._compute_p_ins(attn_weights, mem, input_tgt, output_tgt)\n",
    "x.shape"
   ]
  },
  {
   "cell_type": "code",
   "execution_count": null,
   "metadata": {},
   "outputs": [],
   "source": [
    "import torch\n",
    "from transformer import TransformerDecoderLayer, TransformerDecoder\n",
    "\n",
    "decoder = TransformerDecoder(\n",
    "    decoder_layer=TransformerDecoderLayer(512, 8, 2048, 0.1, 1e-5),\n",
    "    num_layers=3\n",
    ")\n",
    "\n",
    "tgt = torch.randn(3, 10, 512)\n",
    "mem = torch.randn(3, 10, 512)\n",
    "src_pad_mask = torch.full((3, 10), True)\n",
    "src_pad_mask[:, :5] = False\n",
    "\n",
    "x, (*_, attn_weights) = decoder.forward(tgt, mem, memory_key_padding_mask=src_pad_mask)"
   ]
  },
  {
   "cell_type": "code",
   "execution_count": null,
   "metadata": {},
   "outputs": [],
   "source": [
    "from pgn import PointerGenerator\n",
    "from transformers import BertTokenizer\n",
    "\n",
    "model = PointerGenerator(N=4)\n",
    "tokenizer = BertTokenizer.from_pretrained('bert-base-uncased')\n",
    "\n",
    "train_loader = model._train_loader('data/ud/ud_train_2.0.jsonl', tokenizer, batch_size=4)\n",
    "eval_loader = model._eval_loader('data/ud/ud_dev_2.0.jsonl', tokenizer, batch_size=4)"
   ]
  },
  {
   "cell_type": "code",
   "execution_count": null,
   "metadata": {},
   "outputs": [],
   "source": [
    "model.on_validation_epoch_start()\n",
    "\n",
    "for step, batch in enumerate(eval_loader):\n",
    "    if step >= 1000: break\n",
    "    print('starting', step)\n",
    "    model.validation_step(batch, _)"
   ]
  },
  {
   "cell_type": "code",
   "execution_count": null,
   "metadata": {},
   "outputs": [],
   "source": [
    "import torch\n",
    "from pgn import PointerGenerator\n",
    "\n",
    "model = PointerGenerator(N=4).to('mps')\n",
    "\n",
    "model.forward(torch.tensor([[1,2,3,4]], device='mps'), torch.tensor([[1,2,3,4]], device='mps'))"
   ]
  }
 ],
 "metadata": {
  "kernelspec": {
   "display_name": "evo",
   "language": "python",
   "name": "python3"
  },
  "language_info": {
   "codemirror_mode": {
    "name": "ipython",
    "version": 3
   },
   "file_extension": ".py",
   "mimetype": "text/x-python",
   "name": "python",
   "nbconvert_exporter": "python",
   "pygments_lexer": "ipython3",
   "version": "3.8.19"
  }
 },
 "nbformat": 4,
 "nbformat_minor": 2
}
