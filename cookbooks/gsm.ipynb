{
 "cells": [
  {
   "cell_type": "code",
   "execution_count": null,
   "metadata": {},
   "outputs": [],
   "source": [
    "import sys\n",
    "if '..' not in sys.path: sys.path.append('..')"
   ]
  },
  {
   "cell_type": "code",
   "execution_count": null,
   "metadata": {},
   "outputs": [],
   "source": [
    "from datasets import load_dataset\n",
    "\n",
    "ds = load_dataset('openai/gsm8k', 'main')"
   ]
  },
  {
   "cell_type": "code",
   "execution_count": null,
   "metadata": {},
   "outputs": [],
   "source": [
    "from utils import BT\n",
    "from tqdm import tqdm\n",
    "\n",
    "q_len = []\n",
    "a_len = []\n",
    "\n",
    "for thing in tqdm(ds['train']['question']):\n",
    "    q_len.append(len(BT(thing)['input_ids']))\n",
    "    \n",
    "for thing in tqdm(ds['train']['answer']):\n",
    "    a_len.append(len(BT(thing)['input_ids']))"
   ]
  },
  {
   "cell_type": "code",
   "execution_count": null,
   "metadata": {},
   "outputs": [],
   "source": [
    "import matplotlib.pyplot as plt\n",
    "\n",
    "plt.hist(q_len)\n",
    "plt.hist(a_len)\n",
    "plt.hist([q+a for q, a in zip(q_len, a_len)])\n",
    "\n",
    "# context length 512 will fit"
   ]
  },
  {
   "cell_type": "code",
   "execution_count": null,
   "metadata": {},
   "outputs": [],
   "source": [
    "import re\n",
    "import json\n",
    "from tqdm import tqdm\n",
    "\n",
    "def aux(q, a):\n",
    "    a = re.sub(r'<<.*?>>', '', a)\n",
    "    a_toks = BT(a, max_length=512, truncation=True)['input_ids'][1:-1]\n",
    "    a_traj = []\n",
    "    \n",
    "    while a_toks:\n",
    "        a_traj.append(BT.decode(a_toks[:]))\n",
    "        a_toks = a_toks[:len(a_toks)//2]\n",
    "    \n",
    "    return [q] + [f'{q} {a}' for a in a_traj][::-1]\n",
    "\n",
    "train_val_split = ds['train'].train_test_split(test_size=0.1)\n",
    "train = train_val_split['train']\n",
    "val = train_val_split['test']\n",
    "\n",
    "with open('../data/gsm/gsm_train_1.jsonl', 'w') as f:\n",
    "    for x in tqdm(train):\n",
    "        q = x['question']\n",
    "        a = x['answer']\n",
    "        json.dump([aux(x['question'], x['answer']), 0], f)\n",
    "        f.write('\\n')\n",
    "        \n",
    "with open('../data/gsm/gsm_dev_1.jsonl', 'w') as f:\n",
    "    for x in tqdm(val):\n",
    "        q = x['question']\n",
    "        a = x['answer']\n",
    "        json.dump([aux(x['question'], x['answer']), 0], f)\n",
    "        f.write('\\n')"
   ]
  },
  {
   "cell_type": "code",
   "execution_count": null,
   "metadata": {},
   "outputs": [],
   "source": [
    "from utils import generate_prefix_alignment\n",
    "\n",
    "generate_prefix_alignment(\n",
    "    input_path='../data/gsm/gsm_train_1.jsonl',\n",
    "    output_dir='../data/gsm/cache_1',\n",
    "    cache_prefix='sup-gsm-1',\n",
    "    max_len=512\n",
    ")"
   ]
  }
 ],
 "metadata": {
  "kernelspec": {
   "display_name": "evo",
   "language": "python",
   "name": "python3"
  },
  "language_info": {
   "codemirror_mode": {
    "name": "ipython",
    "version": 3
   },
   "file_extension": ".py",
   "mimetype": "text/x-python",
   "name": "python",
   "nbconvert_exporter": "python",
   "pygments_lexer": "ipython3",
   "version": "3.8.19"
  }
 },
 "nbformat": 4,
 "nbformat_minor": 2
}
